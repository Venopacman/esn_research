{
 "cells": [
  {
   "cell_type": "code",
   "execution_count": 1,
   "metadata": {
    "colab": {},
    "colab_type": "code",
    "id": "pbdBH5AdBfWC"
   },
   "outputs": [],
   "source": [
    "import os\n",
    "import numpy as np\n",
    "\n",
    "import pyedflib"
   ]
  },
  {
   "cell_type": "code",
   "execution_count": 2,
   "metadata": {
    "colab": {},
    "colab_type": "code",
    "id": "lrKo036DCDXb"
   },
   "outputs": [],
   "source": [
    "data_set = set([it.replace(\".json\", \"\") for it in os.listdir(\"ecg_data\") if it.endswith('.json')]) & set([it.replace(\".edf\", \"\") for it in os.listdir(\"ecg_data\") if it.endswith('.edf')])\n",
    "# data_list = [os.path.join(\"ecg_data\", it) for it in data_set]\n",
    "# edf_file_list"
   ]
  },
  {
   "cell_type": "code",
   "execution_count": 3,
   "metadata": {
    "colab": {},
    "colab_type": "code",
    "id": "EfFVNualInBF"
   },
   "outputs": [],
   "source": [
    "data_dict = dict()\n",
    "for key in data_set:\n",
    "    data_dict[key] = dict()\n",
    "    data_dict[key]['json_path'] = os.path.join(\"ecg_data\",key + \".json\")\n",
    "    data_dict[key]['edf_path'] = os.path.join(\"ecg_data\",key + \".edf\")"
   ]
  },
  {
   "cell_type": "code",
   "execution_count": 4,
   "metadata": {
    "colab": {},
    "colab_type": "code",
    "id": "dyq1MtGgKRuq"
   },
   "outputs": [],
   "source": [
    "import pandas as pd"
   ]
  },
  {
   "cell_type": "code",
   "execution_count": 5,
   "metadata": {
    "colab": {},
    "colab_type": "code",
    "id": "tI1H5OVkJwTy"
   },
   "outputs": [],
   "source": [
    "import json"
   ]
  },
  {
   "cell_type": "code",
   "execution_count": 6,
   "metadata": {
    "colab": {},
    "colab_type": "code",
    "id": "I9zUx20qKVm3"
   },
   "outputs": [],
   "source": [
    "\n",
    "# pd.DataFrame(columns=pd.DataFrame(pd.read_json(open(data_dict[list(data_dict.keys())[0]]['json_path']),orient='columns',\n",
    "#                            typ='series', dtype=False)).T.columns)"
   ]
  },
  {
   "cell_type": "code",
   "execution_count": 7,
   "metadata": {
    "colab": {},
    "colab_type": "code",
    "id": "Spp8oINkJOJr"
   },
   "outputs": [],
   "source": [
    "df_targets = pd.DataFrame()\n",
    "for patient in data_dict:\n",
    "    df_buffer = pd.DataFrame(pd.read_json(open(data_dict[patient]['json_path']),orient='columns',\n",
    "                           typ='series', dtype=False))\n",
    "    df_buffer = df_buffer.T\n",
    "    df_buffer['patient'] = patient\n",
    "    #   df_buffer['patient'] = patient\n",
    "    df_targets = df_targets.append(df_buffer.set_index('patient'))"
   ]
  },
  {
   "cell_type": "code",
   "execution_count": 8,
   "metadata": {
    "colab": {},
    "colab_type": "code",
    "id": "ylPQcVJSNLbF"
   },
   "outputs": [],
   "source": [
    "df_numeric_targets = df_targets.applymap(lambda x: int(x))"
   ]
  },
  {
   "cell_type": "code",
   "execution_count": 9,
   "metadata": {},
   "outputs": [
    {
     "data": {
      "text/html": [
       "<div>\n",
       "<style scoped>\n",
       "    .dataframe tbody tr th:only-of-type {\n",
       "        vertical-align: middle;\n",
       "    }\n",
       "\n",
       "    .dataframe tbody tr th {\n",
       "        vertical-align: top;\n",
       "    }\n",
       "\n",
       "    .dataframe thead th {\n",
       "        text-align: right;\n",
       "    }\n",
       "</style>\n",
       "<table border=\"1\" class=\"dataframe\">\n",
       "  <thead>\n",
       "    <tr style=\"text-align: right;\">\n",
       "      <th></th>\n",
       "      <th>left_ventricular_hypertrophy</th>\n",
       "      <th>sinus_tachycardia</th>\n",
       "      <th>normal</th>\n",
       "      <th>nodal_rhythm</th>\n",
       "      <th>AV_blockade_III_st</th>\n",
       "      <th>atrial_rhythm</th>\n",
       "      <th>abnormalities_Q_right ventricle</th>\n",
       "      <th>AV_dissociation</th>\n",
       "      <th>impaired_T_wave_lead_i</th>\n",
       "      <th>CA_blockade</th>\n",
       "      <th>...</th>\n",
       "      <th>nodal</th>\n",
       "      <th>WPW_syndrome</th>\n",
       "      <th>sharp_right_deviation</th>\n",
       "      <th>MI_with_ST_lift_rear_wall</th>\n",
       "      <th>incomplete_left_bundle_branch_blockade</th>\n",
       "      <th>extended_QT_interval</th>\n",
       "      <th>impaired_T_wave_lead_ii</th>\n",
       "      <th>horizontal</th>\n",
       "      <th>elongated_PQ</th>\n",
       "      <th>atrial_flutter</th>\n",
       "    </tr>\n",
       "    <tr>\n",
       "      <th>patient</th>\n",
       "      <th></th>\n",
       "      <th></th>\n",
       "      <th></th>\n",
       "      <th></th>\n",
       "      <th></th>\n",
       "      <th></th>\n",
       "      <th></th>\n",
       "      <th></th>\n",
       "      <th></th>\n",
       "      <th></th>\n",
       "      <th></th>\n",
       "      <th></th>\n",
       "      <th></th>\n",
       "      <th></th>\n",
       "      <th></th>\n",
       "      <th></th>\n",
       "      <th></th>\n",
       "      <th></th>\n",
       "      <th></th>\n",
       "      <th></th>\n",
       "      <th></th>\n",
       "    </tr>\n",
       "  </thead>\n",
       "  <tbody>\n",
       "    <tr>\n",
       "      <th>1102546565</th>\n",
       "      <td>0</td>\n",
       "      <td>0</td>\n",
       "      <td>1</td>\n",
       "      <td>0</td>\n",
       "      <td>0</td>\n",
       "      <td>0</td>\n",
       "      <td>0</td>\n",
       "      <td>0</td>\n",
       "      <td>0</td>\n",
       "      <td>0</td>\n",
       "      <td>...</td>\n",
       "      <td>0</td>\n",
       "      <td>0</td>\n",
       "      <td>0</td>\n",
       "      <td>0</td>\n",
       "      <td>0</td>\n",
       "      <td>0</td>\n",
       "      <td>0</td>\n",
       "      <td>0</td>\n",
       "      <td>0</td>\n",
       "      <td>0</td>\n",
       "    </tr>\n",
       "    <tr>\n",
       "      <th>60760929</th>\n",
       "      <td>1</td>\n",
       "      <td>0</td>\n",
       "      <td>0</td>\n",
       "      <td>0</td>\n",
       "      <td>0</td>\n",
       "      <td>0</td>\n",
       "      <td>0</td>\n",
       "      <td>0</td>\n",
       "      <td>0</td>\n",
       "      <td>0</td>\n",
       "      <td>...</td>\n",
       "      <td>0</td>\n",
       "      <td>0</td>\n",
       "      <td>0</td>\n",
       "      <td>0</td>\n",
       "      <td>0</td>\n",
       "      <td>0</td>\n",
       "      <td>0</td>\n",
       "      <td>0</td>\n",
       "      <td>0</td>\n",
       "      <td>0</td>\n",
       "    </tr>\n",
       "    <tr>\n",
       "      <th>50436612</th>\n",
       "      <td>1</td>\n",
       "      <td>0</td>\n",
       "      <td>0</td>\n",
       "      <td>0</td>\n",
       "      <td>0</td>\n",
       "      <td>0</td>\n",
       "      <td>0</td>\n",
       "      <td>0</td>\n",
       "      <td>0</td>\n",
       "      <td>0</td>\n",
       "      <td>...</td>\n",
       "      <td>0</td>\n",
       "      <td>0</td>\n",
       "      <td>0</td>\n",
       "      <td>0</td>\n",
       "      <td>0</td>\n",
       "      <td>0</td>\n",
       "      <td>0</td>\n",
       "      <td>0</td>\n",
       "      <td>0</td>\n",
       "      <td>0</td>\n",
       "    </tr>\n",
       "    <tr>\n",
       "      <th>50635563</th>\n",
       "      <td>0</td>\n",
       "      <td>0</td>\n",
       "      <td>1</td>\n",
       "      <td>0</td>\n",
       "      <td>0</td>\n",
       "      <td>0</td>\n",
       "      <td>0</td>\n",
       "      <td>0</td>\n",
       "      <td>0</td>\n",
       "      <td>0</td>\n",
       "      <td>...</td>\n",
       "      <td>0</td>\n",
       "      <td>0</td>\n",
       "      <td>0</td>\n",
       "      <td>0</td>\n",
       "      <td>0</td>\n",
       "      <td>0</td>\n",
       "      <td>0</td>\n",
       "      <td>0</td>\n",
       "      <td>0</td>\n",
       "      <td>0</td>\n",
       "    </tr>\n",
       "    <tr>\n",
       "      <th>50695192</th>\n",
       "      <td>1</td>\n",
       "      <td>0</td>\n",
       "      <td>1</td>\n",
       "      <td>0</td>\n",
       "      <td>0</td>\n",
       "      <td>0</td>\n",
       "      <td>0</td>\n",
       "      <td>0</td>\n",
       "      <td>0</td>\n",
       "      <td>0</td>\n",
       "      <td>...</td>\n",
       "      <td>0</td>\n",
       "      <td>0</td>\n",
       "      <td>0</td>\n",
       "      <td>0</td>\n",
       "      <td>0</td>\n",
       "      <td>0</td>\n",
       "      <td>0</td>\n",
       "      <td>0</td>\n",
       "      <td>0</td>\n",
       "      <td>0</td>\n",
       "    </tr>\n",
       "  </tbody>\n",
       "</table>\n",
       "<p>5 rows × 82 columns</p>\n",
       "</div>"
      ],
      "text/plain": [
       "            left_ventricular_hypertrophy  sinus_tachycardia  normal  \\\n",
       "patient                                                               \n",
       "1102546565                             0                  0       1   \n",
       "60760929                               1                  0       0   \n",
       "50436612                               1                  0       0   \n",
       "50635563                               0                  0       1   \n",
       "50695192                               1                  0       1   \n",
       "\n",
       "            nodal_rhythm  AV_blockade_III_st  atrial_rhythm  \\\n",
       "patient                                                       \n",
       "1102546565             0                   0              0   \n",
       "60760929               0                   0              0   \n",
       "50436612               0                   0              0   \n",
       "50635563               0                   0              0   \n",
       "50695192               0                   0              0   \n",
       "\n",
       "            abnormalities_Q_right ventricle  AV_dissociation  \\\n",
       "patient                                                        \n",
       "1102546565                                0                0   \n",
       "60760929                                  0                0   \n",
       "50436612                                  0                0   \n",
       "50635563                                  0                0   \n",
       "50695192                                  0                0   \n",
       "\n",
       "            impaired_T_wave_lead_i  CA_blockade       ...        nodal  \\\n",
       "patient                                               ...                \n",
       "1102546565                       0            0       ...            0   \n",
       "60760929                         0            0       ...            0   \n",
       "50436612                         0            0       ...            0   \n",
       "50635563                         0            0       ...            0   \n",
       "50695192                         0            0       ...            0   \n",
       "\n",
       "            WPW_syndrome  sharp_right_deviation  MI_with_ST_lift_rear_wall  \\\n",
       "patient                                                                      \n",
       "1102546565             0                      0                          0   \n",
       "60760929               0                      0                          0   \n",
       "50436612               0                      0                          0   \n",
       "50635563               0                      0                          0   \n",
       "50695192               0                      0                          0   \n",
       "\n",
       "            incomplete_left_bundle_branch_blockade  extended_QT_interval  \\\n",
       "patient                                                                    \n",
       "1102546565                                       0                     0   \n",
       "60760929                                         0                     0   \n",
       "50436612                                         0                     0   \n",
       "50635563                                         0                     0   \n",
       "50695192                                         0                     0   \n",
       "\n",
       "            impaired_T_wave_lead_ii  horizontal  elongated_PQ  atrial_flutter  \n",
       "patient                                                                        \n",
       "1102546565                        0           0             0               0  \n",
       "60760929                          0           0             0               0  \n",
       "50436612                          0           0             0               0  \n",
       "50635563                          0           0             0               0  \n",
       "50695192                          0           0             0               0  \n",
       "\n",
       "[5 rows x 82 columns]"
      ]
     },
     "execution_count": 9,
     "metadata": {},
     "output_type": "execute_result"
    }
   ],
   "source": [
    "df_numeric_targets.head()"
   ]
  },
  {
   "cell_type": "code",
   "execution_count": 10,
   "metadata": {
    "colab": {},
    "colab_type": "code",
    "id": "Wrz3MGXbRhDC"
   },
   "outputs": [],
   "source": [
    "import matplotlib.pyplot as plt"
   ]
  },
  {
   "cell_type": "code",
   "execution_count": 11,
   "metadata": {
    "colab": {
     "base_uri": "https://localhost:8080/",
     "height": 1026
    },
    "colab_type": "code",
    "id": "w3TpXB8wQcYZ",
    "outputId": "ca2845cc-6be2-4b90-871b-493af0fdd2f1"
   },
   "outputs": [
    {
     "data": {
      "image/png": "[encoded data removed]",
      "text/plain": [
       "<Figure size 864x1296 with 1 Axes>"
      ]
     },
     "metadata": {
      "needs_background": "light"
     },
     "output_type": "display_data"
    }
   ],
   "source": [
    "plt.figure(figsize=(12, 18))\n",
    "df_numeric_targets.sum(axis=0).plot.barh()\n",
    "pass"
   ]
  },
  {
   "cell_type": "code",
   "execution_count": 12,
   "metadata": {
    "colab": {
     "base_uri": "https://localhost:8080/",
     "height": 34
    },
    "colab_type": "code",
    "id": "dKnIE9X_ZQNt",
    "outputId": "e9f0cc41-4c5a-422f-8fd7-4e97bc84d183"
   },
   "outputs": [
    {
     "name": "stdout",
     "output_type": "stream",
     "text": [
      "Количество пересекающихся диагнозов: 82\n"
     ]
    }
   ],
   "source": [
    "print(\"Количество пересекающихся диагнозов: {0}\".format(len(df_numeric_targets.columns)))"
   ]
  },
  {
   "cell_type": "code",
   "execution_count": 13,
   "metadata": {
    "colab": {
     "base_uri": "https://localhost:8080/",
     "height": 34
    },
    "colab_type": "code",
    "id": "P73f8yU4TTmg",
    "outputId": "57baa9eb-8e4d-4da6-af3b-3adc066f9190"
   },
   "outputs": [
    {
     "name": "stdout",
     "output_type": "stream",
     "text": [
      "Количество пациентов без какого-либо диагноза: 0\n"
     ]
    }
   ],
   "source": [
    "print(\"Количество пациентов без какого-либо диагноза: {0}\".format(df_numeric_targets[df_numeric_targets.sum(axis=1)<1].shape[0]))"
   ]
  },
  {
   "cell_type": "code",
   "execution_count": 14,
   "metadata": {
    "colab": {
     "base_uri": "https://localhost:8080/",
     "height": 689
    },
    "colab_type": "code",
    "id": "4JTZ6ZrbSs8P",
    "outputId": "97a14518-d709-4378-b44a-19225282c072"
   },
   "outputs": [
    {
     "data": {
      "text/plain": [
       "<matplotlib.axes._subplots.AxesSubplot at 0x7fc3a0d25ac8>"
      ]
     },
     "execution_count": 14,
     "metadata": {},
     "output_type": "execute_result"
    },
    {
     "data": {
      "image/png": "[encoded data removed]",
      "text/plain": [
       "<Figure size 1800x720 with 1 Axes>"
      ]
     },
     "metadata": {
      "needs_background": "light"
     },
     "output_type": "display_data"
    }
   ],
   "source": [
    "plt.figure(figsize=(25, 10))\n",
    "df_numeric_targets.iloc[:100].sum(axis=1).plot.bar()"
   ]
  },
  {
   "cell_type": "markdown",
   "metadata": {
    "colab_type": "text",
    "id": "Kp0OfrCfVIwl"
   },
   "source": [
    "# Теперь давайте посмотрим на диагнозы более верхнеуровнево\n",
    "\n",
    "\n",
    "---\n",
    "\n",
    "\n"
   ]
  },
  {
   "cell_type": "code",
   "execution_count": 15,
   "metadata": {
    "colab": {},
    "colab_type": "code",
    "id": "qrVjJ7tvU8Da"
   },
   "outputs": [],
   "source": [
    "diagnosis_dict_list = json.load(open(\"ecg_data/diagnosis.json\"))"
   ]
  },
  {
   "cell_type": "code",
   "execution_count": 16,
   "metadata": {
    "colab": {
     "base_uri": "https://localhost:8080/",
     "height": 34
    },
    "colab_type": "code",
    "id": "WWXRFdamUEpC",
    "outputId": "1f03a603-fd9b-4d9f-e40d-c5ad5eb97573"
   },
   "outputs": [
    {
     "name": "stdout",
     "output_type": "stream",
     "text": [
      "Количество категорий диагнозов: 12\n"
     ]
    }
   ],
   "source": [
    "print(\"Количество категорий диагнозов: {0}\".format(len([it['type'] for it in diagnosis_dict_list if it['type']=='category'])))"
   ]
  },
  {
   "cell_type": "code",
   "execution_count": 17,
   "metadata": {
    "colab": {
     "base_uri": "https://localhost:8080/",
     "height": 306
    },
    "colab_type": "code",
    "id": "SYuW5hTVVy9C",
    "outputId": "75b7a85b-a183-499a-aaa6-73afdc337b70"
   },
   "outputs": [
    {
     "name": "stdout",
     "output_type": "stream",
     "text": [
      "Не категориальные диагнозы категоризуем вручную:\n"
     ]
    },
    {
     "data": {
      "text/plain": [
       "[{'name': 'shortened_PQ',\n",
       "  'type': 'diagnosis',\n",
       "  'value': 'Укороченный P-Q',\n",
       "  'level': 'yellow',\n",
       "  '1st_level_category': 'PQ_characteristics',\n",
       "  '1st_level_cat_desc': 'P-Q особенности',\n",
       "  '2nd_level_category': 'PQ_characteristics',\n",
       "  '2nd_level_cat_desc': 'P-Q особенности'},\n",
       " {'name': 'elongated_PQ',\n",
       "  'type': 'diagnosis',\n",
       "  'value': 'Удлиненный P-Q',\n",
       "  'level': 'yellow',\n",
       "  '1st_level_category': 'PQ_characteristics',\n",
       "  '1st_level_cat_desc': 'P-Q особенности',\n",
       "  '2nd_level_category': 'PQ_characteristics',\n",
       "  '2nd_level_cat_desc': 'P-Q особенности'}]"
      ]
     },
     "execution_count": 17,
     "metadata": {},
     "output_type": "execute_result"
    }
   ],
   "source": [
    "[it.update({'1st_level_category':'PQ_characteristics',\n",
    "            '1st_level_cat_desc':'P-Q особенности',\n",
    "            '2nd_level_category':'PQ_characteristics',\n",
    "            '2nd_level_cat_desc':'P-Q особенности'}) for it in diagnosis_dict_list if it['type']!='category']\n",
    "print(\"Не категориальные диагнозы категоризуем вручную:\")\n",
    "[it for it in diagnosis_dict_list if it['type']!='category']"
   ]
  },
  {
   "cell_type": "markdown",
   "metadata": {
    "colab_type": "text",
    "id": "lnpCDrlQdz4H"
   },
   "source": [
    "## Приведем два уровня иерархии категорий для каждого диагноза"
   ]
  },
  {
   "cell_type": "code",
   "execution_count": 18,
   "metadata": {
    "colab": {},
    "colab_type": "code",
    "id": "crzV5Z23Yn2F"
   },
   "outputs": [],
   "source": [
    "categorised_diagnosis_dict = dict()\n",
    "for cat_dict in [it for it in diagnosis_dict_list]:\n",
    "    if cat_dict['type'] != 'diagnosis':\n",
    "        for diagnose_dict in cat_dict['value']:\n",
    "            if diagnose_dict['type']!='diagnosis':\n",
    "                for _sub_dict in diagnose_dict['value']:\n",
    "                    _dict = dict()\n",
    "                    _dict['1st_level_category'] = cat_dict['name']\n",
    "                    _dict['1st_level_cat_desc'] = cat_dict['description']\n",
    "                    _dict['2nd_level_category'] = diagnose_dict['name']\n",
    "                    _dict['2nd_level_cat_desc'] = diagnose_dict['description']\n",
    "                    _dict['alert_level'] = _sub_dict['level']\n",
    "                    _dict['diagnose_desc'] = _sub_dict['value']\n",
    "                    categorised_diagnosis_dict[_sub_dict['name']] = _dict\n",
    "            else:\n",
    "                _dict = dict()\n",
    "                _dict['1st_level_category'] = cat_dict['name']\n",
    "                _dict['1st_level_cat_desc'] = cat_dict['description']\n",
    "                _dict['2nd_level_category'] = cat_dict['name']\n",
    "                _dict['2nd_level_cat_desc'] = cat_dict['description']\n",
    "                _dict['alert_level'] = diagnose_dict['level']\n",
    "                _dict['diagnose_desc'] = diagnose_dict['value']\n",
    "                categorised_diagnosis_dict[diagnose_dict['name']] = _dict\n",
    "    else:\n",
    "        _dict = dict()\n",
    "        _dict['1st_level_category'] = cat_dict['1st_level_category']\n",
    "        _dict['1st_level_cat_desc'] = cat_dict['1st_level_cat_desc']\n",
    "        _dict['2nd_level_category'] = cat_dict['2nd_level_category']\n",
    "        _dict['2nd_level_cat_desc'] = cat_dict['2nd_level_cat_desc']\n",
    "        _dict['alert_level'] = cat_dict['level']\n",
    "        _dict['diagnose_desc'] = cat_dict['value']\n",
    "        categorised_diagnosis_dict[cat_dict['name']] = _dict\n",
    "    #     print(cat_dict)"
   ]
  },
  {
   "cell_type": "code",
   "execution_count": 19,
   "metadata": {
    "colab": {
     "base_uri": "https://localhost:8080/",
     "height": 34
    },
    "colab_type": "code",
    "id": "1lfcidQUY5PN",
    "outputId": "f9bd7464-62ad-4f88-ebae-5e71b7f59121"
   },
   "outputs": [
    {
     "data": {
      "text/plain": [
       "set()"
      ]
     },
     "execution_count": 19,
     "metadata": {},
     "output_type": "execute_result"
    }
   ],
   "source": [
    "# Проверим что разметили категории для всех диагнозов\n",
    "set(categorised_diagnosis_dict.keys()) ^ set(df_numeric_targets.columns)"
   ]
  },
  {
   "cell_type": "markdown",
   "metadata": {
    "colab_type": "text",
    "id": "TL6YB-4nlUmd"
   },
   "source": [
    "## Имея маппинг диагнозов на категории, можем проанализировать распределение целевых значений по группам"
   ]
  },
  {
   "cell_type": "code",
   "execution_count": 20,
   "metadata": {
    "colab": {
     "base_uri": "https://localhost:8080/",
     "height": 34
    },
    "colab_type": "code",
    "id": "FhIkH8xxlRSu",
    "outputId": "1a399d24-4a9d-45f3-9682-af8a479aa74f"
   },
   "outputs": [],
   "source": [
    "target_set_1st_lvl = set([categorised_diagnosis_dict[it]['1st_level_category'] for it in categorised_diagnosis_dict])\n",
    "target_set_2nd_lvl = set([categorised_diagnosis_dict[it]['2nd_level_category'] for it in categorised_diagnosis_dict])\n",
    "target_set_color_lvl = set([categorised_diagnosis_dict[it]['alert_level'] for it in categorised_diagnosis_dict])"
   ]
  },
  {
   "cell_type": "code",
   "execution_count": 21,
   "metadata": {},
   "outputs": [
    {
     "data": {
      "text/plain": [
       "17"
      ]
     },
     "execution_count": 21,
     "metadata": {},
     "output_type": "execute_result"
    }
   ],
   "source": [
    "len(target_set_2nd_lvl)"
   ]
  },
  {
   "cell_type": "code",
   "execution_count": 22,
   "metadata": {},
   "outputs": [],
   "source": [
    "df_categorised_targets_1st_level = pd.DataFrame(columns=list(target_set_1st_lvl) + ['patient'])\n",
    "df_categorised_targets_2nd_level = pd.DataFrame(columns=list(target_set_2nd_lvl) + ['patient'])\n",
    "df_categorised_targets_color_level = pd.DataFrame(columns=list(target_set_color_lvl) + ['patient'])\n",
    "for patient in df_numeric_targets.index:\n",
    "    patient_series = df_numeric_targets.loc[patient]\n",
    "    #   print(patient, patient_series[patient_series > 0].index)\n",
    "    _diagnosis_1st_lvl_list = [categorised_diagnosis_dict[it]['1st_level_category'] for it in patient_series[patient_series > 0].index]\n",
    "    pattern_1st_lvl = [_it if _it[0] not in _diagnosis_1st_lvl_list else (_it[0], 1) for _it in \n",
    "                     [it for it in \n",
    "                      zip(df_categorised_targets_1st_level.columns, \n",
    "                          [0]*len(target_set_1st_lvl) + [patient])]\n",
    "                    ]\n",
    "    _diagnosis_2nd_lvl_list = [categorised_diagnosis_dict[it]['2nd_level_category'] for it in patient_series[patient_series > 0].index]\n",
    "    pattern_2nd_lvl = [_it if _it[0] not in _diagnosis_2nd_lvl_list else (_it[0], 1) for _it in \n",
    "                     [it for it in \n",
    "                      zip(df_categorised_targets_2nd_level.columns, \n",
    "                          [0]*len(target_set_2nd_lvl) + [patient])]\n",
    "                    ]\n",
    "\n",
    "    _diagnosis_color_lvl_list = [categorised_diagnosis_dict[it]['alert_level'] for it in patient_series[patient_series > 0].index]\n",
    "    pattern_color_lvl = [_it if _it[0] not in _diagnosis_color_lvl_list else (_it[0], 1) for _it in \n",
    "                     [it for it in \n",
    "                      zip(df_categorised_targets_color_level.columns, \n",
    "                          [0]*len(target_set_color_lvl) + [patient])]\n",
    "                    ]\n",
    "    df_categorised_targets_1st_level = df_categorised_targets_1st_level.append(dict(pattern_1st_lvl), ignore_index=True)\n",
    "    df_categorised_targets_2nd_level = df_categorised_targets_2nd_level.append(dict(pattern_2nd_lvl), ignore_index=True)\n",
    "    df_categorised_targets_color_level = df_categorised_targets_color_level.append(dict(pattern_color_lvl), ignore_index=True)\n",
    "    #   print(pattern_1st_lvl)\n",
    "    #   print(pattern_2nd_lvl)\n",
    "\n",
    "\n",
    "    #   break"
   ]
  },
  {
   "cell_type": "code",
   "execution_count": 23,
   "metadata": {},
   "outputs": [
    {
     "data": {
      "image/png": "[encoded data removed]",
      "text/plain": [
       "<Figure size 432x288 with 1 Axes>"
      ]
     },
     "metadata": {
      "needs_background": "light"
     },
     "output_type": "display_data"
    }
   ],
   "source": [
    "df_categorised_targets_color_level.set_index('patient').sum(axis=0).plot.barh()\n",
    "plt.show()"
   ]
  },
  {
   "cell_type": "code",
   "execution_count": 24,
   "metadata": {},
   "outputs": [
    {
     "data": {
      "text/html": [
       "<div>\n",
       "<style scoped>\n",
       "    .dataframe tbody tr th:only-of-type {\n",
       "        vertical-align: middle;\n",
       "    }\n",
       "\n",
       "    .dataframe tbody tr th {\n",
       "        vertical-align: top;\n",
       "    }\n",
       "\n",
       "    .dataframe thead th {\n",
       "        text-align: right;\n",
       "    }\n",
       "</style>\n",
       "<table border=\"1\" class=\"dataframe\">\n",
       "  <thead>\n",
       "    <tr style=\"text-align: right;\">\n",
       "      <th></th>\n",
       "      <th>red</th>\n",
       "      <th>green</th>\n",
       "      <th>yellow</th>\n",
       "    </tr>\n",
       "    <tr>\n",
       "      <th>patient</th>\n",
       "      <th></th>\n",
       "      <th></th>\n",
       "      <th></th>\n",
       "    </tr>\n",
       "  </thead>\n",
       "  <tbody>\n",
       "    <tr>\n",
       "      <th>1102546565</th>\n",
       "      <td>0</td>\n",
       "      <td>1</td>\n",
       "      <td>1</td>\n",
       "    </tr>\n",
       "    <tr>\n",
       "      <th>60760929</th>\n",
       "      <td>0</td>\n",
       "      <td>1</td>\n",
       "      <td>1</td>\n",
       "    </tr>\n",
       "    <tr>\n",
       "      <th>50436612</th>\n",
       "      <td>0</td>\n",
       "      <td>0</td>\n",
       "      <td>1</td>\n",
       "    </tr>\n",
       "    <tr>\n",
       "      <th>50635563</th>\n",
       "      <td>0</td>\n",
       "      <td>1</td>\n",
       "      <td>1</td>\n",
       "    </tr>\n",
       "    <tr>\n",
       "      <th>50695192</th>\n",
       "      <td>0</td>\n",
       "      <td>1</td>\n",
       "      <td>1</td>\n",
       "    </tr>\n",
       "  </tbody>\n",
       "</table>\n",
       "</div>"
      ],
      "text/plain": [
       "           red green yellow\n",
       "patient                    \n",
       "1102546565   0     1      1\n",
       "60760929     0     1      1\n",
       "50436612     0     0      1\n",
       "50635563     0     1      1\n",
       "50695192     0     1      1"
      ]
     },
     "execution_count": 24,
     "metadata": {},
     "output_type": "execute_result"
    }
   ],
   "source": [
    "df_categorised_targets_color_level.set_index('patient').head()"
   ]
  },
  {
   "cell_type": "code",
   "execution_count": 25,
   "metadata": {},
   "outputs": [
    {
     "data": {
      "text/plain": [
       "(409, 3)"
      ]
     },
     "execution_count": 25,
     "metadata": {},
     "output_type": "execute_result"
    }
   ],
   "source": [
    "df_categorised_targets_color_level.set_index('patient').shape"
   ]
  },
  {
   "cell_type": "code",
   "execution_count": 26,
   "metadata": {},
   "outputs": [],
   "source": [
    "Y = df_categorised_targets_color_level.set_index('patient')"
   ]
  },
  {
   "cell_type": "code",
   "execution_count": 27,
   "metadata": {},
   "outputs": [],
   "source": [
    "color_dataset_dict = dict()\n",
    "for patient in Y.index:\n",
    "    try:\n",
    "        ecg_x = pyedflib.EdfReader(\"./ecg_data/{0}.edf\".format(patient))\n",
    "        sigbufs = np.zeros((ecg_x.signals_in_file, ecg_x.getNSamples()[0]))\n",
    "        for i in np.arange(ecg_x.signals_in_file):\n",
    "            sigbufs[i, :] = ecg_x.readSignal(i)\n",
    "            color_dataset_dict[patient] = sigbufs\n",
    "        ecg_x._close()\n",
    "        del ecg_x\n",
    "    except:\n",
    "        print(patient)\n",
    "#   print(sigbufs.shape)"
   ]
  },
  {
   "cell_type": "code",
   "execution_count": 28,
   "metadata": {},
   "outputs": [
    {
     "data": {
      "text/plain": [
       "(12, 5000)"
      ]
     },
     "execution_count": 28,
     "metadata": {},
     "output_type": "execute_result"
    }
   ],
   "source": [
    "color_dataset_dict['1102625288'].shape"
   ]
  },
  {
   "cell_type": "code",
   "execution_count": 29,
   "metadata": {},
   "outputs": [
    {
     "data": {
      "text/plain": [
       "1"
      ]
     },
     "execution_count": 29,
     "metadata": {},
     "output_type": "execute_result"
    }
   ],
   "source": [
    "Y.loc['1102625288'].green"
   ]
  },
  {
   "cell_type": "code",
   "execution_count": 30,
   "metadata": {},
   "outputs": [],
   "source": [
    "data_dict = dict()\n",
    "for i in range(1):\n",
    "    X_arr = np.zeros((len(color_dataset_dict.keys())*10,500))\n",
    "    Y_arr = np.zeros((len(color_dataset_dict.keys())*10,1))\n",
    "    j = 0\n",
    "    for patient in color_dataset_dict.keys():\n",
    "#         print(patient, Y.loc[patient].green)\n",
    "        for it in range(500, 5000, 500):\n",
    "            X_arr[j, :] = color_dataset_dict[patient][i][it-500:it]\n",
    "            Y_arr[j,:] = Y.loc[patient].red\n",
    "            j += 1\n",
    "    data_dict[\"{0}-lead\".format(i)] = (X_arr, Y_arr)\n"
   ]
  },
  {
   "cell_type": "code",
   "execution_count": 32,
   "metadata": {},
   "outputs": [
    {
     "name": "stderr",
     "output_type": "stream",
     "text": [
      "Using Numpy backend.\n"
     ]
    }
   ],
   "source": [
    "from easyesn import ClassificationESN\n",
    "# from easyesn import OneHotEncoder\n",
    "# from easyesn.optimizers import GridSearchOptimizer\n",
    "# from easyesn import FeatureGeneratorESN"
   ]
  },
  {
   "cell_type": "code",
   "execution_count": 33,
   "metadata": {},
   "outputs": [],
   "source": [
    "esn = ClassificationESN(n_input=1, n_reservoir=75, n_classes=1, spectralRadius=1, reservoirDensity=0.3,leakingRate=0.9, solver='sklearn_auto')"
   ]
  },
  {
   "cell_type": "code",
   "execution_count": 34,
   "metadata": {},
   "outputs": [
    {
     "name": "stderr",
     "output_type": "stream",
     "text": [
      "100% (4090 of 4090) |####################| Elapsed Time: 0:01:30 Time:  0:01:30\n"
     ]
    },
    {
     "data": {
      "text/plain": [
       "0.5312607756141048"
      ]
     },
     "execution_count": 34,
     "metadata": {},
     "output_type": "execute_result"
    }
   ],
   "source": [
    "esn.fit(*data_dict['0-lead'], verbose=1)"
   ]
  },
  {
   "cell_type": "code",
   "execution_count": 35,
   "metadata": {},
   "outputs": [],
   "source": [
    "y_hat = esn.predict(data_dict['0-lead'][0])"
   ]
  },
  {
   "cell_type": "code",
   "execution_count": 36,
   "metadata": {},
   "outputs": [],
   "source": [
    "acc = np.mean([int(target[0] == hat[0]) for target, hat in zip(data_dict['0-lead'][1], y_hat)])"
   ]
  },
  {
   "cell_type": "code",
   "execution_count": 37,
   "metadata": {},
   "outputs": [
    {
     "data": {
      "text/plain": [
       "'Accuracy: 0.24205378973105135'"
      ]
     },
     "execution_count": 37,
     "metadata": {},
     "output_type": "execute_result"
    }
   ],
   "source": [
    "\"Accuracy: {0}\".format(acc)"
   ]
  },
  {
   "cell_type": "code",
   "execution_count": 38,
   "metadata": {},
   "outputs": [
    {
     "data": {
      "text/plain": [
       "'Baseline: 0.24205378973105135'"
      ]
     },
     "execution_count": 38,
     "metadata": {},
     "output_type": "execute_result"
    }
   ],
   "source": [
    "baseline = np.mean([target[0] for target in data_dict['0-lead'][1]])\n",
    "\"Baseline: {0}\".format(baseline)"
   ]
  },
  {
   "cell_type": "code",
   "execution_count": 56,
   "metadata": {},
   "outputs": [],
   "source": [
    "label_1_list = [it[0] for it in enumerate(Y_arr) if it[1][0]==1]\n",
    "label_0_list = [it[0] for it in enumerate(Y_arr) if it[1][0]!=1][:len(label_1_list)]\n",
    "# xp_1 = X_arr[label_1_list]\n",
    "# xp_2 = X_arr[label_0_list]\n",
    "balanced_x = np.vstack((X_arr[label_1_list], X_arr[label_0_list]))\n",
    "balanced_y = np.vstack((Y_arr[label_1_list], Y_arr[label_0_list]))"
   ]
  },
  {
   "cell_type": "code",
   "execution_count": 57,
   "metadata": {},
   "outputs": [
    {
     "name": "stderr",
     "output_type": "stream",
     "text": [
      "100% (1980 of 1980) |####################| Elapsed Time: 0:00:45 Time:  0:00:45\n"
     ]
    }
   ],
   "source": [
    "balanced_esn = esn.fit(balanced_x, balanced_y, verbose=1)"
   ]
  },
  {
   "cell_type": "code",
   "execution_count": 58,
   "metadata": {},
   "outputs": [],
   "source": [
    "y_hat_balance = esn.predict(balanced_x)"
   ]
  },
  {
   "cell_type": "code",
   "execution_count": 59,
   "metadata": {},
   "outputs": [
    {
     "data": {
      "text/plain": [
       "'Accuracy: 0.5'"
      ]
     },
     "execution_count": 59,
     "metadata": {},
     "output_type": "execute_result"
    }
   ],
   "source": [
    "acc = np.mean([int(target[0] == hat[0]) for target, hat in zip(balanced_y, y_hat_balance)])\n",
    "\"Accuracy: {0}\".format(acc)"
   ]
  },
  {
   "cell_type": "code",
   "execution_count": 39,
   "metadata": {},
   "outputs": [],
   "source": [
    "## Построим Multilabel Classification model для самого простого случая"
   ]
  },
  {
   "cell_type": "code",
   "execution_count": null,
   "metadata": {},
   "outputs": [],
   "source": []
  }
 ],
 "metadata": {
  "accelerator": "GPU",
  "colab": {
   "collapsed_sections": [],
   "include_colab_link": true,
   "name": "ecg_first_steps.ipynb",
   "provenance": [],
   "version": "0.3.2"
  },
  "kernelspec": {
   "display_name": "Python 3",
   "language": "python",
   "name": "python3"
  },
  "language_info": {
   "codemirror_mode": {
    "name": "ipython",
    "version": 3
   },
   "file_extension": ".py",
   "mimetype": "text/x-python",
   "name": "python",
   "nbconvert_exporter": "python",
   "pygments_lexer": "ipython3",
   "version": "3.6.6+"
  }
 },
 "nbformat": 4,
 "nbformat_minor": 1
}
