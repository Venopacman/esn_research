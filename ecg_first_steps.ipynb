{
 "cells": [
  {
   "cell_type": "code",
   "execution_count": 2,
   "metadata": {
    "colab": {},
    "colab_type": "code",
    "id": "pbdBH5AdBfWC"
   },
   "outputs": [],
   "source": [
    "import os\n",
    "import numpy as np\n",
    "\n",
    "import pyedflib"
   ]
  },
  {
   "cell_type": "code",
   "execution_count": 3,
   "metadata": {
    "colab": {},
    "colab_type": "code",
    "id": "lrKo036DCDXb"
   },
   "outputs": [],
   "source": [
    "data_set = set([it.replace(\".json\", \"\") for it in os.listdir(\"ecg_data\") if it.endswith('.json')]) & set([it.replace(\".edf\", \"\") for it in os.listdir(\"ecg_data\") if it.endswith('.edf')])\n",
    "# data_list = [os.path.join(\"ecg_data\", it) for it in data_set]\n",
    "# edf_file_list"
   ]
  },
  {
   "cell_type": "code",
   "execution_count": 4,
   "metadata": {
    "colab": {},
    "colab_type": "code",
    "id": "EfFVNualInBF"
   },
   "outputs": [],
   "source": [
    "data_dict = dict()\n",
    "for key in data_set:\n",
    "    data_dict[key] = dict()\n",
    "    data_dict[key]['json_path'] = os.path.join(\"ecg_data\",key + \".json\")\n",
    "    data_dict[key]['edf_path'] = os.path.join(\"ecg_data\",key + \".edf\")"
   ]
  },
  {
   "cell_type": "code",
   "execution_count": 5,
   "metadata": {
    "colab": {},
    "colab_type": "code",
    "id": "dyq1MtGgKRuq"
   },
   "outputs": [],
   "source": [
    "import pandas as pd"
   ]
  },
  {
   "cell_type": "code",
   "execution_count": 6,
   "metadata": {
    "colab": {},
    "colab_type": "code",
    "id": "tI1H5OVkJwTy"
   },
   "outputs": [],
   "source": [
    "import json"
   ]
  },
  {
   "cell_type": "code",
   "execution_count": 0,
   "metadata": {
    "colab": {},
    "colab_type": "code",
    "id": "I9zUx20qKVm3"
   },
   "outputs": [],
   "source": [
    "\n",
    "# pd.DataFrame(columns=pd.DataFrame(pd.read_json(open(data_dict[list(data_dict.keys())[0]]['json_path']),orient='columns',\n",
    "#                            typ='series', dtype=False)).T.columns)"
   ]
  },
  {
   "cell_type": "code",
   "execution_count": 7,
   "metadata": {
    "colab": {},
    "colab_type": "code",
    "id": "Spp8oINkJOJr"
   },
   "outputs": [],
   "source": [
    "df_targets = pd.DataFrame()\n",
    "for patient in data_dict:\n",
    "    df_buffer = pd.DataFrame(pd.read_json(open(data_dict[patient]['json_path']),orient='columns',\n",
    "                           typ='series', dtype=False))\n",
    "    df_buffer = df_buffer.T\n",
    "    df_buffer['patient'] = patient\n",
    "    #   df_buffer['patient'] = patient\n",
    "    df_targets = df_targets.append(df_buffer.set_index('patient'))"
   ]
  },
  {
   "cell_type": "code",
   "execution_count": 8,
   "metadata": {
    "colab": {},
    "colab_type": "code",
    "id": "ylPQcVJSNLbF"
   },
   "outputs": [],
   "source": [
    "df_numeric_targets = df_targets.applymap(lambda x: int(x))"
   ]
  },
  {
   "cell_type": "code",
   "execution_count": 24,
   "metadata": {},
   "outputs": [
    {
     "data": {
      "text/html": [
       "<div>\n",
       "<style scoped>\n",
       "    .dataframe tbody tr th:only-of-type {\n",
       "        vertical-align: middle;\n",
       "    }\n",
       "\n",
       "    .dataframe tbody tr th {\n",
       "        vertical-align: top;\n",
       "    }\n",
       "\n",
       "    .dataframe thead th {\n",
       "        text-align: right;\n",
       "    }\n",
       "</style>\n",
       "<table border=\"1\" class=\"dataframe\">\n",
       "  <thead>\n",
       "    <tr style=\"text-align: right;\">\n",
       "      <th></th>\n",
       "      <th>left_ventricular_hypertrophy</th>\n",
       "      <th>sinus_tachycardia</th>\n",
       "      <th>normal</th>\n",
       "      <th>nodal_rhythm</th>\n",
       "      <th>AV_blockade_III_st</th>\n",
       "      <th>atrial_rhythm</th>\n",
       "      <th>abnormalities_Q_right ventricle</th>\n",
       "      <th>AV_dissociation</th>\n",
       "      <th>impaired_T_wave_lead_i</th>\n",
       "      <th>CA_blockade</th>\n",
       "      <th>...</th>\n",
       "      <th>nodal</th>\n",
       "      <th>WPW_syndrome</th>\n",
       "      <th>sharp_right_deviation</th>\n",
       "      <th>MI_with_ST_lift_rear_wall</th>\n",
       "      <th>incomplete_left_bundle_branch_blockade</th>\n",
       "      <th>extended_QT_interval</th>\n",
       "      <th>impaired_T_wave_lead_ii</th>\n",
       "      <th>horizontal</th>\n",
       "      <th>elongated_PQ</th>\n",
       "      <th>atrial_flutter</th>\n",
       "    </tr>\n",
       "    <tr>\n",
       "      <th>patient</th>\n",
       "      <th></th>\n",
       "      <th></th>\n",
       "      <th></th>\n",
       "      <th></th>\n",
       "      <th></th>\n",
       "      <th></th>\n",
       "      <th></th>\n",
       "      <th></th>\n",
       "      <th></th>\n",
       "      <th></th>\n",
       "      <th></th>\n",
       "      <th></th>\n",
       "      <th></th>\n",
       "      <th></th>\n",
       "      <th></th>\n",
       "      <th></th>\n",
       "      <th></th>\n",
       "      <th></th>\n",
       "      <th></th>\n",
       "      <th></th>\n",
       "      <th></th>\n",
       "    </tr>\n",
       "  </thead>\n",
       "  <tbody>\n",
       "    <tr>\n",
       "      <th>1102530574</th>\n",
       "      <td>0</td>\n",
       "      <td>0</td>\n",
       "      <td>1</td>\n",
       "      <td>0</td>\n",
       "      <td>0</td>\n",
       "      <td>0</td>\n",
       "      <td>0</td>\n",
       "      <td>0</td>\n",
       "      <td>0</td>\n",
       "      <td>0</td>\n",
       "      <td>...</td>\n",
       "      <td>0</td>\n",
       "      <td>0</td>\n",
       "      <td>0</td>\n",
       "      <td>0</td>\n",
       "      <td>0</td>\n",
       "      <td>0</td>\n",
       "      <td>0</td>\n",
       "      <td>0</td>\n",
       "      <td>0</td>\n",
       "      <td>0</td>\n",
       "    </tr>\n",
       "    <tr>\n",
       "      <th>1102531056</th>\n",
       "      <td>0</td>\n",
       "      <td>0</td>\n",
       "      <td>1</td>\n",
       "      <td>0</td>\n",
       "      <td>0</td>\n",
       "      <td>0</td>\n",
       "      <td>0</td>\n",
       "      <td>0</td>\n",
       "      <td>0</td>\n",
       "      <td>0</td>\n",
       "      <td>...</td>\n",
       "      <td>0</td>\n",
       "      <td>0</td>\n",
       "      <td>0</td>\n",
       "      <td>0</td>\n",
       "      <td>0</td>\n",
       "      <td>0</td>\n",
       "      <td>0</td>\n",
       "      <td>0</td>\n",
       "      <td>0</td>\n",
       "      <td>0</td>\n",
       "    </tr>\n",
       "    <tr>\n",
       "      <th>50455077</th>\n",
       "      <td>1</td>\n",
       "      <td>0</td>\n",
       "      <td>0</td>\n",
       "      <td>0</td>\n",
       "      <td>0</td>\n",
       "      <td>0</td>\n",
       "      <td>0</td>\n",
       "      <td>0</td>\n",
       "      <td>0</td>\n",
       "      <td>0</td>\n",
       "      <td>...</td>\n",
       "      <td>0</td>\n",
       "      <td>0</td>\n",
       "      <td>0</td>\n",
       "      <td>0</td>\n",
       "      <td>0</td>\n",
       "      <td>0</td>\n",
       "      <td>1</td>\n",
       "      <td>0</td>\n",
       "      <td>0</td>\n",
       "      <td>0</td>\n",
       "    </tr>\n",
       "    <tr>\n",
       "      <th>1102609816</th>\n",
       "      <td>0</td>\n",
       "      <td>0</td>\n",
       "      <td>1</td>\n",
       "      <td>0</td>\n",
       "      <td>0</td>\n",
       "      <td>0</td>\n",
       "      <td>0</td>\n",
       "      <td>0</td>\n",
       "      <td>0</td>\n",
       "      <td>0</td>\n",
       "      <td>...</td>\n",
       "      <td>0</td>\n",
       "      <td>0</td>\n",
       "      <td>0</td>\n",
       "      <td>0</td>\n",
       "      <td>0</td>\n",
       "      <td>0</td>\n",
       "      <td>0</td>\n",
       "      <td>0</td>\n",
       "      <td>0</td>\n",
       "      <td>0</td>\n",
       "    </tr>\n",
       "    <tr>\n",
       "      <th>1102526384</th>\n",
       "      <td>0</td>\n",
       "      <td>0</td>\n",
       "      <td>0</td>\n",
       "      <td>0</td>\n",
       "      <td>0</td>\n",
       "      <td>0</td>\n",
       "      <td>0</td>\n",
       "      <td>0</td>\n",
       "      <td>0</td>\n",
       "      <td>0</td>\n",
       "      <td>...</td>\n",
       "      <td>0</td>\n",
       "      <td>0</td>\n",
       "      <td>0</td>\n",
       "      <td>0</td>\n",
       "      <td>0</td>\n",
       "      <td>0</td>\n",
       "      <td>0</td>\n",
       "      <td>0</td>\n",
       "      <td>0</td>\n",
       "      <td>0</td>\n",
       "    </tr>\n",
       "  </tbody>\n",
       "</table>\n",
       "<p>5 rows × 82 columns</p>\n",
       "</div>"
      ],
      "text/plain": [
       "            left_ventricular_hypertrophy  sinus_tachycardia  normal  \\\n",
       "patient                                                               \n",
       "1102530574                             0                  0       1   \n",
       "1102531056                             0                  0       1   \n",
       "50455077                               1                  0       0   \n",
       "1102609816                             0                  0       1   \n",
       "1102526384                             0                  0       0   \n",
       "\n",
       "            nodal_rhythm  AV_blockade_III_st  atrial_rhythm  \\\n",
       "patient                                                       \n",
       "1102530574             0                   0              0   \n",
       "1102531056             0                   0              0   \n",
       "50455077               0                   0              0   \n",
       "1102609816             0                   0              0   \n",
       "1102526384             0                   0              0   \n",
       "\n",
       "            abnormalities_Q_right ventricle  AV_dissociation  \\\n",
       "patient                                                        \n",
       "1102530574                                0                0   \n",
       "1102531056                                0                0   \n",
       "50455077                                  0                0   \n",
       "1102609816                                0                0   \n",
       "1102526384                                0                0   \n",
       "\n",
       "            impaired_T_wave_lead_i  CA_blockade       ...        nodal  \\\n",
       "patient                                               ...                \n",
       "1102530574                       0            0       ...            0   \n",
       "1102531056                       0            0       ...            0   \n",
       "50455077                         0            0       ...            0   \n",
       "1102609816                       0            0       ...            0   \n",
       "1102526384                       0            0       ...            0   \n",
       "\n",
       "            WPW_syndrome  sharp_right_deviation  MI_with_ST_lift_rear_wall  \\\n",
       "patient                                                                      \n",
       "1102530574             0                      0                          0   \n",
       "1102531056             0                      0                          0   \n",
       "50455077               0                      0                          0   \n",
       "1102609816             0                      0                          0   \n",
       "1102526384             0                      0                          0   \n",
       "\n",
       "            incomplete_left_bundle_branch_blockade  extended_QT_interval  \\\n",
       "patient                                                                    \n",
       "1102530574                                       0                     0   \n",
       "1102531056                                       0                     0   \n",
       "50455077                                         0                     0   \n",
       "1102609816                                       0                     0   \n",
       "1102526384                                       0                     0   \n",
       "\n",
       "            impaired_T_wave_lead_ii  horizontal  elongated_PQ  atrial_flutter  \n",
       "patient                                                                        \n",
       "1102530574                        0           0             0               0  \n",
       "1102531056                        0           0             0               0  \n",
       "50455077                          1           0             0               0  \n",
       "1102609816                        0           0             0               0  \n",
       "1102526384                        0           0             0               0  \n",
       "\n",
       "[5 rows x 82 columns]"
      ]
     },
     "execution_count": 24,
     "metadata": {},
     "output_type": "execute_result"
    }
   ],
   "source": [
    "df_numeric_targets.head()"
   ]
  },
  {
   "cell_type": "code",
   "execution_count": 9,
   "metadata": {
    "colab": {},
    "colab_type": "code",
    "id": "Wrz3MGXbRhDC"
   },
   "outputs": [],
   "source": [
    "import matplotlib.pyplot as plt"
   ]
  },
  {
   "cell_type": "code",
   "execution_count": 10,
   "metadata": {
    "colab": {
     "base_uri": "https://localhost:8080/",
     "height": 1026
    },
    "colab_type": "code",
    "id": "w3TpXB8wQcYZ",
    "outputId": "ca2845cc-6be2-4b90-871b-493af0fdd2f1"
   },
   "outputs": [
    {
     "data": {
      "image/png": "[encoded data removed]",
      "text/plain": [
       "<Figure size 864x1296 with 1 Axes>"
      ]
     },
     "metadata": {
      "needs_background": "light"
     },
     "output_type": "display_data"
    }
   ],
   "source": [
    "plt.figure(figsize=(12, 18))\n",
    "df_numeric_targets.sum(axis=0).plot.barh()\n",
    "pass"
   ]
  },
  {
   "cell_type": "code",
   "execution_count": 11,
   "metadata": {
    "colab": {
     "base_uri": "https://localhost:8080/",
     "height": 34
    },
    "colab_type": "code",
    "id": "dKnIE9X_ZQNt",
    "outputId": "e9f0cc41-4c5a-422f-8fd7-4e97bc84d183"
   },
   "outputs": [
    {
     "name": "stdout",
     "output_type": "stream",
     "text": [
      "Количество пересекающихся диагнозов: 82\n"
     ]
    }
   ],
   "source": [
    "print(\"Количество пересекающихся диагнозов: {0}\".format(len(df_numeric_targets.columns)))"
   ]
  },
  {
   "cell_type": "code",
   "execution_count": 12,
   "metadata": {
    "colab": {
     "base_uri": "https://localhost:8080/",
     "height": 34
    },
    "colab_type": "code",
    "id": "P73f8yU4TTmg",
    "outputId": "57baa9eb-8e4d-4da6-af3b-3adc066f9190"
   },
   "outputs": [
    {
     "name": "stdout",
     "output_type": "stream",
     "text": [
      "Количество пациентов без какого-либо диагноза: 0\n"
     ]
    }
   ],
   "source": [
    "print(\"Количество пациентов без какого-либо диагноза: {0}\".format(df_numeric_targets[df_numeric_targets.sum(axis=1)<1].shape[0]))"
   ]
  },
  {
   "cell_type": "code",
   "execution_count": 13,
   "metadata": {
    "colab": {
     "base_uri": "https://localhost:8080/",
     "height": 689
    },
    "colab_type": "code",
    "id": "4JTZ6ZrbSs8P",
    "outputId": "97a14518-d709-4378-b44a-19225282c072"
   },
   "outputs": [
    {
     "data": {
      "text/plain": [
       "<matplotlib.axes._subplots.AxesSubplot at 0x7f8431aa0828>"
      ]
     },
     "execution_count": 13,
     "metadata": {},
     "output_type": "execute_result"
    },
    {
     "data": {
      "image/png": "[encoded data removed]",
      "text/plain": [
       "<Figure size 1800x720 with 1 Axes>"
      ]
     },
     "metadata": {
      "needs_background": "light"
     },
     "output_type": "display_data"
    }
   ],
   "source": [
    "plt.figure(figsize=(25, 10))\n",
    "df_numeric_targets.iloc[:100].sum(axis=1).plot.bar()"
   ]
  },
  {
   "cell_type": "markdown",
   "metadata": {
    "colab_type": "text",
    "id": "Kp0OfrCfVIwl"
   },
   "source": [
    "# Теперь давайте посмотрим на диагнозы более верхнеуровнево\n",
    "\n",
    "\n",
    "---\n",
    "\n",
    "\n"
   ]
  },
  {
   "cell_type": "code",
   "execution_count": 14,
   "metadata": {
    "colab": {},
    "colab_type": "code",
    "id": "qrVjJ7tvU8Da"
   },
   "outputs": [],
   "source": [
    "diagnosis_dict_list = json.load(open(\"ecg_data/diagnosis.json\"))"
   ]
  },
  {
   "cell_type": "code",
   "execution_count": 15,
   "metadata": {
    "colab": {
     "base_uri": "https://localhost:8080/",
     "height": 34
    },
    "colab_type": "code",
    "id": "WWXRFdamUEpC",
    "outputId": "1f03a603-fd9b-4d9f-e40d-c5ad5eb97573"
   },
   "outputs": [
    {
     "name": "stdout",
     "output_type": "stream",
     "text": [
      "Количество категорий диагнозов: 12\n"
     ]
    }
   ],
   "source": [
    "print(\"Количество категорий диагнозов: {0}\".format(len([it['type'] for it in diagnosis_dict_list if it['type']=='category'])))"
   ]
  },
  {
   "cell_type": "code",
   "execution_count": 16,
   "metadata": {
    "colab": {
     "base_uri": "https://localhost:8080/",
     "height": 306
    },
    "colab_type": "code",
    "id": "SYuW5hTVVy9C",
    "outputId": "75b7a85b-a183-499a-aaa6-73afdc337b70"
   },
   "outputs": [
    {
     "name": "stdout",
     "output_type": "stream",
     "text": [
      "Не категориальные диагнозы категоризуем вручную:\n"
     ]
    },
    {
     "data": {
      "text/plain": [
       "[{'name': 'shortened_PQ',\n",
       "  'type': 'diagnosis',\n",
       "  'value': 'Укороченный P-Q',\n",
       "  'level': 'yellow',\n",
       "  '1st_level_category': 'PQ_characteristics',\n",
       "  '1st_level_cat_desc': 'P-Q особенности',\n",
       "  '2nd_level_category': 'PQ_characteristics',\n",
       "  '2nd_level_cat_desc': 'P-Q особенности'},\n",
       " {'name': 'elongated_PQ',\n",
       "  'type': 'diagnosis',\n",
       "  'value': 'Удлиненный P-Q',\n",
       "  'level': 'yellow',\n",
       "  '1st_level_category': 'PQ_characteristics',\n",
       "  '1st_level_cat_desc': 'P-Q особенности',\n",
       "  '2nd_level_category': 'PQ_characteristics',\n",
       "  '2nd_level_cat_desc': 'P-Q особенности'}]"
      ]
     },
     "execution_count": 16,
     "metadata": {},
     "output_type": "execute_result"
    }
   ],
   "source": [
    "[it.update({'1st_level_category':'PQ_characteristics',\n",
    "            '1st_level_cat_desc':'P-Q особенности',\n",
    "            '2nd_level_category':'PQ_characteristics',\n",
    "            '2nd_level_cat_desc':'P-Q особенности'}) for it in diagnosis_dict_list if it['type']!='category']\n",
    "print(\"Не категориальные диагнозы категоризуем вручную:\")\n",
    "[it for it in diagnosis_dict_list if it['type']!='category']"
   ]
  },
  {
   "cell_type": "markdown",
   "metadata": {
    "colab_type": "text",
    "id": "lnpCDrlQdz4H"
   },
   "source": [
    "## Приведем два уровня иерархии категорий для каждого диагноза"
   ]
  },
  {
   "cell_type": "code",
   "execution_count": 21,
   "metadata": {
    "colab": {},
    "colab_type": "code",
    "id": "crzV5Z23Yn2F"
   },
   "outputs": [],
   "source": [
    "categorised_diagnosis_dict = dict()\n",
    "for cat_dict in [it for it in diagnosis_dict_list]:\n",
    "    if cat_dict['type'] != 'diagnosis':\n",
    "        for diagnose_dict in cat_dict['value']:\n",
    "            if diagnose_dict['type']!='diagnosis':\n",
    "                for _sub_dict in diagnose_dict['value']:\n",
    "                    _dict = dict()\n",
    "                    _dict['1st_level_category'] = cat_dict['name']\n",
    "                    _dict['1st_level_cat_desc'] = cat_dict['description']\n",
    "                    _dict['2nd_level_category'] = diagnose_dict['name']\n",
    "                    _dict['2nd_level_cat_desc'] = diagnose_dict['description']\n",
    "                    _dict['alert_level'] = _sub_dict['level']\n",
    "                    _dict['diagnose_desc'] = _sub_dict['value']\n",
    "                    categorised_diagnosis_dict[_sub_dict['name']] = _dict\n",
    "            else:\n",
    "                _dict = dict()\n",
    "                _dict['1st_level_category'] = cat_dict['name']\n",
    "                _dict['1st_level_cat_desc'] = cat_dict['description']\n",
    "                _dict['2nd_level_category'] = cat_dict['name']\n",
    "                _dict['2nd_level_cat_desc'] = cat_dict['description']\n",
    "                _dict['alert_level'] = diagnose_dict['level']\n",
    "                _dict['diagnose_desc'] = diagnose_dict['value']\n",
    "                categorised_diagnosis_dict[diagnose_dict['name']] = _dict\n",
    "    else:\n",
    "        _dict = dict()\n",
    "        _dict['1st_level_category'] = cat_dict['1st_level_category']\n",
    "        _dict['1st_level_cat_desc'] = cat_dict['1st_level_cat_desc']\n",
    "        _dict['2nd_level_category'] = cat_dict['2nd_level_category']\n",
    "        _dict['2nd_level_cat_desc'] = cat_dict['2nd_level_cat_desc']\n",
    "        _dict['alert_level'] = cat_dict['level']\n",
    "        _dict['diagnose_desc'] = cat_dict['value']\n",
    "        categorised_diagnosis_dict[cat_dict['name']] = _dict\n",
    "    #     print(cat_dict)"
   ]
  },
  {
   "cell_type": "code",
   "execution_count": 22,
   "metadata": {
    "colab": {
     "base_uri": "https://localhost:8080/",
     "height": 34
    },
    "colab_type": "code",
    "id": "1lfcidQUY5PN",
    "outputId": "f9bd7464-62ad-4f88-ebae-5e71b7f59121"
   },
   "outputs": [
    {
     "data": {
      "text/plain": [
       "set()"
      ]
     },
     "execution_count": 22,
     "metadata": {},
     "output_type": "execute_result"
    }
   ],
   "source": [
    "# Проверим что разметили категории для всех диагнозов\n",
    "set(categorised_diagnosis_dict.keys()) ^ set(df_numeric_targets.columns)"
   ]
  },
  {
   "cell_type": "markdown",
   "metadata": {
    "colab_type": "text",
    "id": "TL6YB-4nlUmd"
   },
   "source": [
    "## Имея маппинг диагнозов на категории, можем проанализировать распределение целевых значений по группам"
   ]
  },
  {
   "cell_type": "code",
   "execution_count": 25,
   "metadata": {
    "colab": {
     "base_uri": "https://localhost:8080/",
     "height": 34
    },
    "colab_type": "code",
    "id": "FhIkH8xxlRSu",
    "outputId": "1a399d24-4a9d-45f3-9682-af8a479aa74f"
   },
   "outputs": [],
   "source": [
    "target_set_1st_lvl = set([categorised_diagnosis_dict[it]['1st_level_category'] for it in categorised_diagnosis_dict])\n",
    "target_set_2nd_lvl = set([categorised_diagnosis_dict[it]['2nd_level_category'] for it in categorised_diagnosis_dict])\n",
    "target_set_color_lvl = set([categorised_diagnosis_dict[it]['alert_level'] for it in categorised_diagnosis_dict])"
   ]
  },
  {
   "cell_type": "code",
   "execution_count": 26,
   "metadata": {},
   "outputs": [
    {
     "data": {
      "text/plain": [
       "17"
      ]
     },
     "execution_count": 26,
     "metadata": {},
     "output_type": "execute_result"
    }
   ],
   "source": [
    "len(target_set_2nd_lvl)"
   ]
  },
  {
   "cell_type": "code",
   "execution_count": 27,
   "metadata": {},
   "outputs": [],
   "source": [
    "df_categorised_targets_1st_level = pd.DataFrame(columns=list(target_set_1st_lvl) + ['patient'])\n",
    "df_categorised_targets_2nd_level = pd.DataFrame(columns=list(target_set_2nd_lvl) + ['patient'])\n",
    "df_categorised_targets_color_level = pd.DataFrame(columns=list(target_set_color_lvl) + ['patient'])\n",
    "for patient in df_numeric_targets.index:\n",
    "    patient_series = df_numeric_targets.loc[patient]\n",
    "    #   print(patient, patient_series[patient_series > 0].index)\n",
    "    _diagnosis_1st_lvl_list = [categorised_diagnosis_dict[it]['1st_level_category'] for it in patient_series[patient_series > 0].index]\n",
    "    pattern_1st_lvl = [_it if _it[0] not in _diagnosis_1st_lvl_list else (_it[0], 1) for _it in \n",
    "                     [it for it in \n",
    "                      zip(df_categorised_targets_1st_level.columns, \n",
    "                          [0]*len(target_set_1st_lvl) + [patient])]\n",
    "                    ]\n",
    "    _diagnosis_2nd_lvl_list = [categorised_diagnosis_dict[it]['2nd_level_category'] for it in patient_series[patient_series > 0].index]\n",
    "    pattern_2nd_lvl = [_it if _it[0] not in _diagnosis_2nd_lvl_list else (_it[0], 1) for _it in \n",
    "                     [it for it in \n",
    "                      zip(df_categorised_targets_2nd_level.columns, \n",
    "                          [0]*len(target_set_2nd_lvl) + [patient])]\n",
    "                    ]\n",
    "\n",
    "    _diagnosis_color_lvl_list = [categorised_diagnosis_dict[it]['alert_level'] for it in patient_series[patient_series > 0].index]\n",
    "    pattern_color_lvl = [_it if _it[0] not in _diagnosis_color_lvl_list else (_it[0], 1) for _it in \n",
    "                     [it for it in \n",
    "                      zip(df_categorised_targets_color_level.columns, \n",
    "                          [0]*len(target_set_color_lvl) + [patient])]\n",
    "                    ]\n",
    "    df_categorised_targets_1st_level = df_categorised_targets_1st_level.append(dict(pattern_1st_lvl), ignore_index=True)\n",
    "    df_categorised_targets_2nd_level = df_categorised_targets_2nd_level.append(dict(pattern_2nd_lvl), ignore_index=True)\n",
    "    df_categorised_targets_color_level = df_categorised_targets_color_level.append(dict(pattern_color_lvl), ignore_index=True)\n",
    "    #   print(pattern_1st_lvl)\n",
    "    #   print(pattern_2nd_lvl)\n",
    "\n",
    "\n",
    "    #   break"
   ]
  },
  {
   "cell_type": "code",
   "execution_count": 28,
   "metadata": {},
   "outputs": [
    {
     "data": {
      "image/png": "[encoded data removed]",
      "text/plain": [
       "<Figure size 432x288 with 1 Axes>"
      ]
     },
     "metadata": {
      "needs_background": "light"
     },
     "output_type": "display_data"
    }
   ],
   "source": [
    "df_categorised_targets_color_level.set_index('patient').sum(axis=0).plot.barh()\n",
    "plt.show()"
   ]
  },
  {
   "cell_type": "code",
   "execution_count": 29,
   "metadata": {},
   "outputs": [
    {
     "data": {
      "text/html": [
       "<div>\n",
       "<style scoped>\n",
       "    .dataframe tbody tr th:only-of-type {\n",
       "        vertical-align: middle;\n",
       "    }\n",
       "\n",
       "    .dataframe tbody tr th {\n",
       "        vertical-align: top;\n",
       "    }\n",
       "\n",
       "    .dataframe thead th {\n",
       "        text-align: right;\n",
       "    }\n",
       "</style>\n",
       "<table border=\"1\" class=\"dataframe\">\n",
       "  <thead>\n",
       "    <tr style=\"text-align: right;\">\n",
       "      <th></th>\n",
       "      <th>green</th>\n",
       "      <th>red</th>\n",
       "      <th>yellow</th>\n",
       "    </tr>\n",
       "    <tr>\n",
       "      <th>patient</th>\n",
       "      <th></th>\n",
       "      <th></th>\n",
       "      <th></th>\n",
       "    </tr>\n",
       "  </thead>\n",
       "  <tbody>\n",
       "    <tr>\n",
       "      <th>1102530574</th>\n",
       "      <td>1</td>\n",
       "      <td>0</td>\n",
       "      <td>0</td>\n",
       "    </tr>\n",
       "    <tr>\n",
       "      <th>1102531056</th>\n",
       "      <td>1</td>\n",
       "      <td>0</td>\n",
       "      <td>0</td>\n",
       "    </tr>\n",
       "    <tr>\n",
       "      <th>50455077</th>\n",
       "      <td>0</td>\n",
       "      <td>0</td>\n",
       "      <td>1</td>\n",
       "    </tr>\n",
       "    <tr>\n",
       "      <th>1102609816</th>\n",
       "      <td>1</td>\n",
       "      <td>0</td>\n",
       "      <td>0</td>\n",
       "    </tr>\n",
       "    <tr>\n",
       "      <th>1102526384</th>\n",
       "      <td>1</td>\n",
       "      <td>1</td>\n",
       "      <td>1</td>\n",
       "    </tr>\n",
       "  </tbody>\n",
       "</table>\n",
       "</div>"
      ],
      "text/plain": [
       "           green red yellow\n",
       "patient                    \n",
       "1102530574     1   0      0\n",
       "1102531056     1   0      0\n",
       "50455077       0   0      1\n",
       "1102609816     1   0      0\n",
       "1102526384     1   1      1"
      ]
     },
     "execution_count": 29,
     "metadata": {},
     "output_type": "execute_result"
    }
   ],
   "source": [
    "df_categorised_targets_color_level.set_index('patient').head()"
   ]
  },
  {
   "cell_type": "code",
   "execution_count": 30,
   "metadata": {},
   "outputs": [
    {
     "data": {
      "text/plain": [
       "(410, 3)"
      ]
     },
     "execution_count": 30,
     "metadata": {},
     "output_type": "execute_result"
    }
   ],
   "source": [
    "df_categorised_targets_color_level.set_index('patient').shape"
   ]
  },
  {
   "cell_type": "code",
   "execution_count": 31,
   "metadata": {},
   "outputs": [],
   "source": [
    "from easyesn import ClassificationESN"
   ]
  },
  {
   "cell_type": "code",
   "execution_count": null,
   "metadata": {},
   "outputs": [],
   "source": [
    "esn = ClassificationESN(12,250,3,)"
   ]
  },
  {
   "cell_type": "code",
   "execution_count": null,
   "metadata": {},
   "outputs": [],
   "source": [
    "## Построим Multilabel Classification model для самого простого случая"
   ]
  },
  {
   "cell_type": "code",
   "execution_count": null,
   "metadata": {},
   "outputs": [],
   "source": []
  },
  {
   "cell_type": "code",
   "execution_count": 181,
   "metadata": {
    "colab": {
     "base_uri": "https://localhost:8080/",
     "height": 284
    },
    "colab_type": "code",
    "id": "N1_4NxyVlCZJ",
    "outputId": "5eabbb7d-039a-4d33-89eb-cca01f23cc90"
   },
   "outputs": [
    {
     "data": {
      "text/html": [
       "<div>\n",
       "<style scoped>\n",
       "    .dataframe tbody tr th:only-of-type {\n",
       "        vertical-align: middle;\n",
       "    }\n",
       "\n",
       "    .dataframe tbody tr th {\n",
       "        vertical-align: top;\n",
       "    }\n",
       "\n",
       "    .dataframe thead th {\n",
       "        text-align: right;\n",
       "    }\n",
       "</style>\n",
       "<table border=\"1\" class=\"dataframe\">\n",
       "  <thead>\n",
       "    <tr style=\"text-align: right;\">\n",
       "      <th></th>\n",
       "      <th>AV_blockade_III_st</th>\n",
       "      <th>AV_blockade_II_st_1_type</th>\n",
       "      <th>AV_blockade_II_st_2_type</th>\n",
       "      <th>AV_blockade_I_st</th>\n",
       "      <th>AV_dissociation</th>\n",
       "      <th>CA_blockade</th>\n",
       "      <th>MI_with_ST_depression_before_frontal</th>\n",
       "      <th>MI_with_ST_depression_front</th>\n",
       "      <th>MI_with_ST_depression_lower</th>\n",
       "      <th>MI_with_ST_depression_rear_wall</th>\n",
       "      <th>...</th>\n",
       "      <th>shortened_QT_interval</th>\n",
       "      <th>sinus_arrhythmia</th>\n",
       "      <th>sinus_bradycardia</th>\n",
       "      <th>sinus_tachycardia</th>\n",
       "      <th>stimulation_ventricles</th>\n",
       "      <th>supraventricular_tachycardia</th>\n",
       "      <th>tachycardia_pirouette</th>\n",
       "      <th>ventricular</th>\n",
       "      <th>ventricular_tachycardia</th>\n",
       "      <th>vertical</th>\n",
       "    </tr>\n",
       "    <tr>\n",
       "      <th>patient</th>\n",
       "      <th></th>\n",
       "      <th></th>\n",
       "      <th></th>\n",
       "      <th></th>\n",
       "      <th></th>\n",
       "      <th></th>\n",
       "      <th></th>\n",
       "      <th></th>\n",
       "      <th></th>\n",
       "      <th></th>\n",
       "      <th></th>\n",
       "      <th></th>\n",
       "      <th></th>\n",
       "      <th></th>\n",
       "      <th></th>\n",
       "      <th></th>\n",
       "      <th></th>\n",
       "      <th></th>\n",
       "      <th></th>\n",
       "      <th></th>\n",
       "      <th></th>\n",
       "    </tr>\n",
       "  </thead>\n",
       "  <tbody>\n",
       "    <tr>\n",
       "      <th>60760082</th>\n",
       "      <td>0</td>\n",
       "      <td>0</td>\n",
       "      <td>0</td>\n",
       "      <td>0</td>\n",
       "      <td>0</td>\n",
       "      <td>0</td>\n",
       "      <td>0</td>\n",
       "      <td>0</td>\n",
       "      <td>0</td>\n",
       "      <td>0</td>\n",
       "      <td>...</td>\n",
       "      <td>0</td>\n",
       "      <td>0</td>\n",
       "      <td>0</td>\n",
       "      <td>0</td>\n",
       "      <td>0</td>\n",
       "      <td>0</td>\n",
       "      <td>0</td>\n",
       "      <td>0</td>\n",
       "      <td>0</td>\n",
       "      <td>0</td>\n",
       "    </tr>\n",
       "    <tr>\n",
       "      <th>60909382</th>\n",
       "      <td>0</td>\n",
       "      <td>0</td>\n",
       "      <td>0</td>\n",
       "      <td>0</td>\n",
       "      <td>0</td>\n",
       "      <td>0</td>\n",
       "      <td>0</td>\n",
       "      <td>0</td>\n",
       "      <td>0</td>\n",
       "      <td>0</td>\n",
       "      <td>...</td>\n",
       "      <td>0</td>\n",
       "      <td>0</td>\n",
       "      <td>0</td>\n",
       "      <td>0</td>\n",
       "      <td>0</td>\n",
       "      <td>0</td>\n",
       "      <td>0</td>\n",
       "      <td>0</td>\n",
       "      <td>0</td>\n",
       "      <td>0</td>\n",
       "    </tr>\n",
       "    <tr>\n",
       "      <th>1102625288</th>\n",
       "      <td>0</td>\n",
       "      <td>0</td>\n",
       "      <td>0</td>\n",
       "      <td>0</td>\n",
       "      <td>0</td>\n",
       "      <td>0</td>\n",
       "      <td>0</td>\n",
       "      <td>0</td>\n",
       "      <td>0</td>\n",
       "      <td>0</td>\n",
       "      <td>...</td>\n",
       "      <td>0</td>\n",
       "      <td>0</td>\n",
       "      <td>0</td>\n",
       "      <td>0</td>\n",
       "      <td>0</td>\n",
       "      <td>0</td>\n",
       "      <td>0</td>\n",
       "      <td>0</td>\n",
       "      <td>0</td>\n",
       "      <td>0</td>\n",
       "    </tr>\n",
       "    <tr>\n",
       "      <th>50527435</th>\n",
       "      <td>0</td>\n",
       "      <td>0</td>\n",
       "      <td>0</td>\n",
       "      <td>0</td>\n",
       "      <td>0</td>\n",
       "      <td>0</td>\n",
       "      <td>0</td>\n",
       "      <td>1</td>\n",
       "      <td>0</td>\n",
       "      <td>0</td>\n",
       "      <td>...</td>\n",
       "      <td>0</td>\n",
       "      <td>0</td>\n",
       "      <td>1</td>\n",
       "      <td>0</td>\n",
       "      <td>0</td>\n",
       "      <td>0</td>\n",
       "      <td>0</td>\n",
       "      <td>0</td>\n",
       "      <td>0</td>\n",
       "      <td>0</td>\n",
       "    </tr>\n",
       "    <tr>\n",
       "      <th>50455332</th>\n",
       "      <td>0</td>\n",
       "      <td>0</td>\n",
       "      <td>0</td>\n",
       "      <td>0</td>\n",
       "      <td>0</td>\n",
       "      <td>0</td>\n",
       "      <td>0</td>\n",
       "      <td>0</td>\n",
       "      <td>0</td>\n",
       "      <td>0</td>\n",
       "      <td>...</td>\n",
       "      <td>0</td>\n",
       "      <td>0</td>\n",
       "      <td>0</td>\n",
       "      <td>0</td>\n",
       "      <td>0</td>\n",
       "      <td>0</td>\n",
       "      <td>0</td>\n",
       "      <td>0</td>\n",
       "      <td>0</td>\n",
       "      <td>0</td>\n",
       "    </tr>\n",
       "  </tbody>\n",
       "</table>\n",
       "<p>5 rows × 82 columns</p>\n",
       "</div>"
      ],
      "text/plain": [
       "            AV_blockade_III_st  AV_blockade_II_st_1_type  \\\n",
       "patient                                                    \n",
       "60760082                     0                         0   \n",
       "60909382                     0                         0   \n",
       "1102625288                   0                         0   \n",
       "50527435                     0                         0   \n",
       "50455332                     0                         0   \n",
       "\n",
       "            AV_blockade_II_st_2_type  AV_blockade_I_st  AV_dissociation  \\\n",
       "patient                                                                   \n",
       "60760082                           0                 0                0   \n",
       "60909382                           0                 0                0   \n",
       "1102625288                         0                 0                0   \n",
       "50527435                           0                 0                0   \n",
       "50455332                           0                 0                0   \n",
       "\n",
       "            CA_blockade  MI_with_ST_depression_before_frontal  \\\n",
       "patient                                                         \n",
       "60760082              0                                     0   \n",
       "60909382              0                                     0   \n",
       "1102625288            0                                     0   \n",
       "50527435              0                                     0   \n",
       "50455332              0                                     0   \n",
       "\n",
       "            MI_with_ST_depression_front  MI_with_ST_depression_lower  \\\n",
       "patient                                                                \n",
       "60760082                              0                            0   \n",
       "60909382                              0                            0   \n",
       "1102625288                            0                            0   \n",
       "50527435                              1                            0   \n",
       "50455332                              0                            0   \n",
       "\n",
       "            MI_with_ST_depression_rear_wall    ...     shortened_QT_interval  \\\n",
       "patient                                        ...                             \n",
       "60760082                                  0    ...                         0   \n",
       "60909382                                  0    ...                         0   \n",
       "1102625288                                0    ...                         0   \n",
       "50527435                                  0    ...                         0   \n",
       "50455332                                  0    ...                         0   \n",
       "\n",
       "            sinus_arrhythmia  sinus_bradycardia  sinus_tachycardia  \\\n",
       "patient                                                              \n",
       "60760082                   0                  0                  0   \n",
       "60909382                   0                  0                  0   \n",
       "1102625288                 0                  0                  0   \n",
       "50527435                   0                  1                  0   \n",
       "50455332                   0                  0                  0   \n",
       "\n",
       "            stimulation_ventricles  supraventricular_tachycardia  \\\n",
       "patient                                                            \n",
       "60760082                         0                             0   \n",
       "60909382                         0                             0   \n",
       "1102625288                       0                             0   \n",
       "50527435                         0                             0   \n",
       "50455332                         0                             0   \n",
       "\n",
       "            tachycardia_pirouette  ventricular  ventricular_tachycardia  \\\n",
       "patient                                                                   \n",
       "60760082                        0            0                        0   \n",
       "60909382                        0            0                        0   \n",
       "1102625288                      0            0                        0   \n",
       "50527435                        0            0                        0   \n",
       "50455332                        0            0                        0   \n",
       "\n",
       "            vertical  \n",
       "patient               \n",
       "60760082           0  \n",
       "60909382           0  \n",
       "1102625288         0  \n",
       "50527435           0  \n",
       "50455332           0  \n",
       "\n",
       "[5 rows x 82 columns]"
      ]
     },
     "execution_count": 181,
     "metadata": {
      "tags": []
     },
     "output_type": "execute_result"
    }
   ],
   "source": [
    "df_numeric_targets.head()"
   ]
  },
  {
   "cell_type": "code",
   "execution_count": 0,
   "metadata": {
    "colab": {},
    "colab_type": "code",
    "id": "9dq1xqbuAuTM"
   },
   "outputs": [],
   "source": [
    "f = pyedflib.EdfReader(file_list[-1])\n",
    "# print(\"filetype: %i\\n\"%hdr.filetype);\n",
    "print(\"edfsignals: %i\" % f.signals_in_file)\n",
    "print(\"file duration: %i seconds\" % f.file_duration)\n",
    "print(\"startdate: %i-%i-%i\" % (f.getStartdatetime().day,f.getStartdatetime().month,f.getStartdatetime().year))\n",
    "print(\"starttime: %i:%02i:%02i\" % (f.getStartdatetime().hour,f.getStartdatetime().minute,f.getStartdatetime().second))\n",
    "# print(\"patient: %s\" % f.getP);\n",
    "# print(\"recording: %s\" % f.getPatientAdditional())\n",
    "print(\"patientcode: %s\" % f.getPatientCode())\n",
    "print(\"gender: %s\" % f.getGender())\n",
    "print(\"birthdate: %s\" % f.getBirthdate())\n",
    "print(\"patient_name: %s\" % f.getPatientName())\n",
    "print(\"patient_additional: %s\" % f.getPatientAdditional())\n",
    "print(\"admincode: %s\" % f.getAdmincode())\n",
    "print(\"technician: %s\" % f.getTechnician())\n",
    "print(\"equipment: %s\" % f.getEquipment())\n",
    "print(\"recording_additional: %s\" % f.getRecordingAdditional())\n",
    "print(\"datarecord duration: %f seconds\" % f.getFileDuration())\n",
    "print(\"number of datarecords in the file: %i\" % f.datarecords_in_file)\n",
    "print(\"number of annotations in the file: %i\" % f.annotations_in_file)\n",
    "\n",
    "channel = 3\n",
    "print(\"\\nsignal parameters for the %d.channel:\\n\\n\" % channel)\n",
    "\n",
    "print(\"label: %s\" % f.getLabel(channel))\n",
    "print(\"samples in file: %i\" % f.getNSamples()[channel])\n",
    "# print(\"samples in datarecord: %i\" % f.get\n",
    "print(\"physical maximum: %f\" % f.getPhysicalMaximum(channel))\n",
    "print(\"physical minimum: %f\" % f.getPhysicalMinimum(channel))\n",
    "print(\"digital maximum: %i\" % f.getDigitalMaximum(channel))\n",
    "print(\"digital minimum: %i\" % f.getDigitalMinimum(channel))\n",
    "print(\"physical dimension: %s\" % f.getPhysicalDimension(channel))\n",
    "print(\"prefilter: %s\" % f.getPrefilter(channel))\n",
    "print(\"transducer: %s\" % f.getTransducer(channel))\n",
    "print(\"samplefrequency: %f\" % f.getSampleFrequency(channel))\n",
    "\n",
    "annotations = f.readAnnotations()\n",
    "for n in np.arange(f.annotations_in_file):\n",
    "    print(\"annotation: onset is %f    duration is %s    description is %s\" % (annotations[0][n],annotations[1][n],annotations[2][n]))\n",
    "\n",
    "buf = f.readSignal(channel)\n",
    "n = 200\n",
    "print(\"\\nread %i samples\\n\" % n)\n",
    "result = \"\"\n",
    "for i in np.arange(n):\n",
    "    result += (\"%.1f, \" % buf[i])\n",
    "# print(result)\n",
    "# print(f.__dict__)\n",
    "f._close()\n",
    "del f"
   ]
  },
  {
   "cell_type": "code",
   "execution_count": 0,
   "metadata": {
    "colab": {},
    "colab_type": "code",
    "id": "u6-uWQHICYS2"
   },
   "outputs": [],
   "source": []
  }
 ],
 "metadata": {
  "accelerator": "GPU",
  "colab": {
   "collapsed_sections": [],
   "include_colab_link": true,
   "name": "ecg_first_steps.ipynb",
   "provenance": [],
   "version": "0.3.2"
  },
  "kernelspec": {
   "display_name": "Python 3",
   "language": "python",
   "name": "python3"
  },
  "language_info": {
   "codemirror_mode": {
    "name": "ipython",
    "version": 3
   },
   "file_extension": ".py",
   "mimetype": "text/x-python",
   "name": "python",
   "nbconvert_exporter": "python",
   "pygments_lexer": "ipython3",
   "version": "3.6.6+"
  }
 },
 "nbformat": 4,
 "nbformat_minor": 1
}
