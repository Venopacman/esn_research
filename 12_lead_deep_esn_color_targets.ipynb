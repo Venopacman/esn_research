{
 "cells": [
  {
   "cell_type": "code",
   "execution_count": 1,
   "metadata": {
    "colab": {},
    "colab_type": "code",
    "id": "pbdBH5AdBfWC"
   },
   "outputs": [],
   "source": [
    "import os\n",
    "import numpy as np\n",
    "import pandas as pd\n",
    "import pyedflib\n",
    "import json"
   ]
  },
  {
   "cell_type": "code",
   "execution_count": 2,
   "metadata": {
    "colab": {},
    "colab_type": "code",
    "id": "lrKo036DCDXb"
   },
   "outputs": [],
   "source": [
    "data_set = set([it.replace(\".json\", \"\") \n",
    "                for it in os.listdir(\"ecg_data\") if it.endswith('.json')]) & set([it.replace(\".edf\", \"\") \n",
    "                for it in os.listdir(\"ecg_data\") if it.endswith('.edf')])"
   ]
  },
  {
   "cell_type": "code",
   "execution_count": 3,
   "metadata": {
    "colab": {},
    "colab_type": "code",
    "id": "EfFVNualInBF"
   },
   "outputs": [],
   "source": [
    "data_dict = dict()\n",
    "for key in data_set:\n",
    "    data_dict[key] = dict()\n",
    "    data_dict[key]['json_path'] = os.path.join(\"ecg_data\",key + \".json\")\n",
    "    data_dict[key]['edf_path'] = os.path.join(\"ecg_data\",key + \".edf\")"
   ]
  },
  {
   "cell_type": "code",
   "execution_count": 7,
   "metadata": {
    "colab": {},
    "colab_type": "code",
    "id": "Spp8oINkJOJr"
   },
   "outputs": [],
   "source": [
    "df_targets = pd.DataFrame()\n",
    "for patient in data_dict:\n",
    "    df_buffer = pd.DataFrame(pd.read_json(open(data_dict[patient]['json_path']),orient='columns',\n",
    "                           typ='series', dtype=False))\n",
    "    df_buffer = df_buffer.T\n",
    "    df_buffer['patient'] = patient\n",
    "    #   df_buffer['patient'] = patient\n",
    "    df_targets = df_targets.append(df_buffer.set_index('patient'))"
   ]
  },
  {
   "cell_type": "code",
   "execution_count": 8,
   "metadata": {
    "colab": {},
    "colab_type": "code",
    "id": "ylPQcVJSNLbF"
   },
   "outputs": [],
   "source": [
    "df_numeric_targets = df_targets.applymap(lambda x: int(x))"
   ]
  },
  {
   "cell_type": "code",
   "execution_count": 9,
   "metadata": {},
   "outputs": [
    {
     "data": {
      "text/html": [
       "<div>\n",
       "<style scoped>\n",
       "    .dataframe tbody tr th:only-of-type {\n",
       "        vertical-align: middle;\n",
       "    }\n",
       "\n",
       "    .dataframe tbody tr th {\n",
       "        vertical-align: top;\n",
       "    }\n",
       "\n",
       "    .dataframe thead th {\n",
       "        text-align: right;\n",
       "    }\n",
       "</style>\n",
       "<table border=\"1\" class=\"dataframe\">\n",
       "  <thead>\n",
       "    <tr style=\"text-align: right;\">\n",
       "      <th></th>\n",
       "      <th>left_ventricular_hypertrophy</th>\n",
       "      <th>sinus_tachycardia</th>\n",
       "      <th>normal</th>\n",
       "      <th>nodal_rhythm</th>\n",
       "      <th>AV_blockade_III_st</th>\n",
       "      <th>atrial_rhythm</th>\n",
       "      <th>abnormalities_Q_right ventricle</th>\n",
       "      <th>AV_dissociation</th>\n",
       "      <th>impaired_T_wave_lead_i</th>\n",
       "      <th>CA_blockade</th>\n",
       "      <th>...</th>\n",
       "      <th>nodal</th>\n",
       "      <th>WPW_syndrome</th>\n",
       "      <th>sharp_right_deviation</th>\n",
       "      <th>MI_with_ST_lift_rear_wall</th>\n",
       "      <th>incomplete_left_bundle_branch_blockade</th>\n",
       "      <th>extended_QT_interval</th>\n",
       "      <th>impaired_T_wave_lead_ii</th>\n",
       "      <th>horizontal</th>\n",
       "      <th>elongated_PQ</th>\n",
       "      <th>atrial_flutter</th>\n",
       "    </tr>\n",
       "    <tr>\n",
       "      <th>patient</th>\n",
       "      <th></th>\n",
       "      <th></th>\n",
       "      <th></th>\n",
       "      <th></th>\n",
       "      <th></th>\n",
       "      <th></th>\n",
       "      <th></th>\n",
       "      <th></th>\n",
       "      <th></th>\n",
       "      <th></th>\n",
       "      <th></th>\n",
       "      <th></th>\n",
       "      <th></th>\n",
       "      <th></th>\n",
       "      <th></th>\n",
       "      <th></th>\n",
       "      <th></th>\n",
       "      <th></th>\n",
       "      <th></th>\n",
       "      <th></th>\n",
       "      <th></th>\n",
       "    </tr>\n",
       "  </thead>\n",
       "  <tbody>\n",
       "    <tr>\n",
       "      <th>50614362</th>\n",
       "      <td>1</td>\n",
       "      <td>0</td>\n",
       "      <td>1</td>\n",
       "      <td>0</td>\n",
       "      <td>0</td>\n",
       "      <td>0</td>\n",
       "      <td>0</td>\n",
       "      <td>0</td>\n",
       "      <td>1</td>\n",
       "      <td>0</td>\n",
       "      <td>...</td>\n",
       "      <td>0</td>\n",
       "      <td>0</td>\n",
       "      <td>0</td>\n",
       "      <td>0</td>\n",
       "      <td>0</td>\n",
       "      <td>0</td>\n",
       "      <td>0</td>\n",
       "      <td>0</td>\n",
       "      <td>0</td>\n",
       "      <td>0</td>\n",
       "    </tr>\n",
       "    <tr>\n",
       "      <th>50488872</th>\n",
       "      <td>0</td>\n",
       "      <td>0</td>\n",
       "      <td>0</td>\n",
       "      <td>0</td>\n",
       "      <td>0</td>\n",
       "      <td>0</td>\n",
       "      <td>0</td>\n",
       "      <td>0</td>\n",
       "      <td>0</td>\n",
       "      <td>0</td>\n",
       "      <td>...</td>\n",
       "      <td>0</td>\n",
       "      <td>0</td>\n",
       "      <td>0</td>\n",
       "      <td>0</td>\n",
       "      <td>0</td>\n",
       "      <td>0</td>\n",
       "      <td>0</td>\n",
       "      <td>0</td>\n",
       "      <td>0</td>\n",
       "      <td>1</td>\n",
       "    </tr>\n",
       "    <tr>\n",
       "      <th>50665484</th>\n",
       "      <td>1</td>\n",
       "      <td>0</td>\n",
       "      <td>0</td>\n",
       "      <td>0</td>\n",
       "      <td>0</td>\n",
       "      <td>0</td>\n",
       "      <td>0</td>\n",
       "      <td>0</td>\n",
       "      <td>1</td>\n",
       "      <td>0</td>\n",
       "      <td>...</td>\n",
       "      <td>0</td>\n",
       "      <td>0</td>\n",
       "      <td>0</td>\n",
       "      <td>0</td>\n",
       "      <td>0</td>\n",
       "      <td>0</td>\n",
       "      <td>0</td>\n",
       "      <td>0</td>\n",
       "      <td>0</td>\n",
       "      <td>0</td>\n",
       "    </tr>\n",
       "    <tr>\n",
       "      <th>50437056</th>\n",
       "      <td>1</td>\n",
       "      <td>0</td>\n",
       "      <td>0</td>\n",
       "      <td>0</td>\n",
       "      <td>0</td>\n",
       "      <td>0</td>\n",
       "      <td>0</td>\n",
       "      <td>0</td>\n",
       "      <td>0</td>\n",
       "      <td>0</td>\n",
       "      <td>...</td>\n",
       "      <td>0</td>\n",
       "      <td>0</td>\n",
       "      <td>0</td>\n",
       "      <td>0</td>\n",
       "      <td>0</td>\n",
       "      <td>0</td>\n",
       "      <td>0</td>\n",
       "      <td>1</td>\n",
       "      <td>0</td>\n",
       "      <td>0</td>\n",
       "    </tr>\n",
       "    <tr>\n",
       "      <th>60760205</th>\n",
       "      <td>1</td>\n",
       "      <td>0</td>\n",
       "      <td>0</td>\n",
       "      <td>0</td>\n",
       "      <td>0</td>\n",
       "      <td>0</td>\n",
       "      <td>0</td>\n",
       "      <td>0</td>\n",
       "      <td>0</td>\n",
       "      <td>0</td>\n",
       "      <td>...</td>\n",
       "      <td>0</td>\n",
       "      <td>0</td>\n",
       "      <td>0</td>\n",
       "      <td>0</td>\n",
       "      <td>0</td>\n",
       "      <td>0</td>\n",
       "      <td>0</td>\n",
       "      <td>1</td>\n",
       "      <td>0</td>\n",
       "      <td>0</td>\n",
       "    </tr>\n",
       "  </tbody>\n",
       "</table>\n",
       "<p>5 rows × 82 columns</p>\n",
       "</div>"
      ],
      "text/plain": [
       "          left_ventricular_hypertrophy  sinus_tachycardia  normal  \\\n",
       "patient                                                             \n",
       "50614362                             1                  0       1   \n",
       "50488872                             0                  0       0   \n",
       "50665484                             1                  0       0   \n",
       "50437056                             1                  0       0   \n",
       "60760205                             1                  0       0   \n",
       "\n",
       "          nodal_rhythm  AV_blockade_III_st  atrial_rhythm  \\\n",
       "patient                                                     \n",
       "50614362             0                   0              0   \n",
       "50488872             0                   0              0   \n",
       "50665484             0                   0              0   \n",
       "50437056             0                   0              0   \n",
       "60760205             0                   0              0   \n",
       "\n",
       "          abnormalities_Q_right ventricle  AV_dissociation  \\\n",
       "patient                                                      \n",
       "50614362                                0                0   \n",
       "50488872                                0                0   \n",
       "50665484                                0                0   \n",
       "50437056                                0                0   \n",
       "60760205                                0                0   \n",
       "\n",
       "          impaired_T_wave_lead_i  CA_blockade       ...        nodal  \\\n",
       "patient                                             ...                \n",
       "50614362                       1            0       ...            0   \n",
       "50488872                       0            0       ...            0   \n",
       "50665484                       1            0       ...            0   \n",
       "50437056                       0            0       ...            0   \n",
       "60760205                       0            0       ...            0   \n",
       "\n",
       "          WPW_syndrome  sharp_right_deviation  MI_with_ST_lift_rear_wall  \\\n",
       "patient                                                                    \n",
       "50614362             0                      0                          0   \n",
       "50488872             0                      0                          0   \n",
       "50665484             0                      0                          0   \n",
       "50437056             0                      0                          0   \n",
       "60760205             0                      0                          0   \n",
       "\n",
       "          incomplete_left_bundle_branch_blockade  extended_QT_interval  \\\n",
       "patient                                                                  \n",
       "50614362                                       0                     0   \n",
       "50488872                                       0                     0   \n",
       "50665484                                       0                     0   \n",
       "50437056                                       0                     0   \n",
       "60760205                                       0                     0   \n",
       "\n",
       "          impaired_T_wave_lead_ii  horizontal  elongated_PQ  atrial_flutter  \n",
       "patient                                                                      \n",
       "50614362                        0           0             0               0  \n",
       "50488872                        0           0             0               1  \n",
       "50665484                        0           0             0               0  \n",
       "50437056                        0           1             0               0  \n",
       "60760205                        0           1             0               0  \n",
       "\n",
       "[5 rows x 82 columns]"
      ]
     },
     "execution_count": 9,
     "metadata": {},
     "output_type": "execute_result"
    }
   ],
   "source": [
    "df_numeric_targets.head()"
   ]
  },
  {
   "cell_type": "code",
   "execution_count": 10,
   "metadata": {
    "colab": {},
    "colab_type": "code",
    "id": "Wrz3MGXbRhDC"
   },
   "outputs": [],
   "source": [
    "import matplotlib.pyplot as plt"
   ]
  },
  {
   "cell_type": "code",
   "execution_count": 11,
   "metadata": {
    "colab": {
     "base_uri": "https://localhost:8080/",
     "height": 1026
    },
    "colab_type": "code",
    "id": "w3TpXB8wQcYZ",
    "outputId": "ca2845cc-6be2-4b90-871b-493af0fdd2f1"
   },
   "outputs": [
    {
     "data": {
      "image/png": "[encoded data removed]",
      "text/plain": [
       "<Figure size 864x1296 with 1 Axes>"
      ]
     },
     "metadata": {
      "needs_background": "light"
     },
     "output_type": "display_data"
    }
   ],
   "source": [
    "plt.figure(figsize=(12, 18))\n",
    "df_numeric_targets.sum(axis=0).plot.barh()\n",
    "pass"
   ]
  },
  {
   "cell_type": "code",
   "execution_count": 12,
   "metadata": {
    "colab": {
     "base_uri": "https://localhost:8080/",
     "height": 34
    },
    "colab_type": "code",
    "id": "dKnIE9X_ZQNt",
    "outputId": "e9f0cc41-4c5a-422f-8fd7-4e97bc84d183"
   },
   "outputs": [
    {
     "name": "stdout",
     "output_type": "stream",
     "text": [
      "Количество пересекающихся диагнозов: 82\n"
     ]
    }
   ],
   "source": [
    "print(\"Количество пересекающихся диагнозов: {0}\".format(len(df_numeric_targets.columns)))"
   ]
  },
  {
   "cell_type": "code",
   "execution_count": 13,
   "metadata": {
    "colab": {
     "base_uri": "https://localhost:8080/",
     "height": 34
    },
    "colab_type": "code",
    "id": "P73f8yU4TTmg",
    "outputId": "57baa9eb-8e4d-4da6-af3b-3adc066f9190"
   },
   "outputs": [
    {
     "name": "stdout",
     "output_type": "stream",
     "text": [
      "Количество пациентов без какого-либо диагноза: 0\n"
     ]
    }
   ],
   "source": [
    "print(\"Количество пациентов без какого-либо диагноза: {0}\".format(df_numeric_targets[df_numeric_targets.sum(axis=1)<1].shape[0]))"
   ]
  },
  {
   "cell_type": "code",
   "execution_count": 14,
   "metadata": {
    "colab": {
     "base_uri": "https://localhost:8080/",
     "height": 689
    },
    "colab_type": "code",
    "id": "4JTZ6ZrbSs8P",
    "outputId": "97a14518-d709-4378-b44a-19225282c072"
   },
   "outputs": [
    {
     "data": {
      "text/plain": [
       "<matplotlib.axes._subplots.AxesSubplot at 0x7fe11200ea90>"
      ]
     },
     "execution_count": 14,
     "metadata": {},
     "output_type": "execute_result"
    },
    {
     "data": {
      "image/png": "[encoded data removed]",
      "text/plain": [
       "<Figure size 1800x720 with 1 Axes>"
      ]
     },
     "metadata": {
      "needs_background": "light"
     },
     "output_type": "display_data"
    }
   ],
   "source": [
    "plt.figure(figsize=(25, 10))\n",
    "df_numeric_targets.iloc[:100].sum(axis=1).plot.bar()"
   ]
  },
  {
   "cell_type": "markdown",
   "metadata": {
    "colab_type": "text",
    "id": "Kp0OfrCfVIwl"
   },
   "source": [
    "# Теперь давайте посмотрим на диагнозы более верхнеуровнево\n",
    "\n",
    "\n",
    "---\n",
    "\n",
    "\n"
   ]
  },
  {
   "cell_type": "code",
   "execution_count": 15,
   "metadata": {
    "colab": {},
    "colab_type": "code",
    "id": "qrVjJ7tvU8Da"
   },
   "outputs": [],
   "source": [
    "diagnosis_dict_list = json.load(open(\"ecg_data/diagnosis.json\"))"
   ]
  },
  {
   "cell_type": "code",
   "execution_count": 16,
   "metadata": {
    "colab": {
     "base_uri": "https://localhost:8080/",
     "height": 34
    },
    "colab_type": "code",
    "id": "WWXRFdamUEpC",
    "outputId": "1f03a603-fd9b-4d9f-e40d-c5ad5eb97573"
   },
   "outputs": [
    {
     "name": "stdout",
     "output_type": "stream",
     "text": [
      "Количество категорий диагнозов: 12\n"
     ]
    }
   ],
   "source": [
    "print(\"Количество категорий диагнозов: {0}\".format(len([it['type'] for it in diagnosis_dict_list if it['type']=='category'])))"
   ]
  },
  {
   "cell_type": "code",
   "execution_count": 17,
   "metadata": {
    "colab": {
     "base_uri": "https://localhost:8080/",
     "height": 306
    },
    "colab_type": "code",
    "id": "SYuW5hTVVy9C",
    "outputId": "75b7a85b-a183-499a-aaa6-73afdc337b70"
   },
   "outputs": [
    {
     "name": "stdout",
     "output_type": "stream",
     "text": [
      "Не категориальные диагнозы категоризуем вручную:\n"
     ]
    },
    {
     "data": {
      "text/plain": [
       "[{'name': 'shortened_PQ',\n",
       "  'type': 'diagnosis',\n",
       "  'value': 'Укороченный P-Q',\n",
       "  'level': 'yellow',\n",
       "  '1st_level_category': 'PQ_characteristics',\n",
       "  '1st_level_cat_desc': 'P-Q особенности',\n",
       "  '2nd_level_category': 'PQ_characteristics',\n",
       "  '2nd_level_cat_desc': 'P-Q особенности'},\n",
       " {'name': 'elongated_PQ',\n",
       "  'type': 'diagnosis',\n",
       "  'value': 'Удлиненный P-Q',\n",
       "  'level': 'yellow',\n",
       "  '1st_level_category': 'PQ_characteristics',\n",
       "  '1st_level_cat_desc': 'P-Q особенности',\n",
       "  '2nd_level_category': 'PQ_characteristics',\n",
       "  '2nd_level_cat_desc': 'P-Q особенности'}]"
      ]
     },
     "execution_count": 17,
     "metadata": {},
     "output_type": "execute_result"
    }
   ],
   "source": [
    "[it.update({'1st_level_category':'PQ_characteristics',\n",
    "            '1st_level_cat_desc':'P-Q особенности',\n",
    "            '2nd_level_category':'PQ_characteristics',\n",
    "            '2nd_level_cat_desc':'P-Q особенности'}) for it in diagnosis_dict_list if it['type']!='category']\n",
    "print(\"Не категориальные диагнозы категоризуем вручную:\")\n",
    "[it for it in diagnosis_dict_list if it['type']!='category']"
   ]
  },
  {
   "cell_type": "markdown",
   "metadata": {
    "colab_type": "text",
    "id": "lnpCDrlQdz4H"
   },
   "source": [
    "## Приведем два уровня иерархии категорий для каждого диагноза"
   ]
  },
  {
   "cell_type": "code",
   "execution_count": 18,
   "metadata": {
    "colab": {},
    "colab_type": "code",
    "id": "crzV5Z23Yn2F"
   },
   "outputs": [],
   "source": [
    "categorised_diagnosis_dict = dict()\n",
    "for cat_dict in [it for it in diagnosis_dict_list]:\n",
    "    if cat_dict['type'] != 'diagnosis':\n",
    "        for diagnose_dict in cat_dict['value']:\n",
    "            if diagnose_dict['type']!='diagnosis':\n",
    "                for _sub_dict in diagnose_dict['value']:\n",
    "                    _dict = dict()\n",
    "                    _dict['1st_level_category'] = cat_dict['name']\n",
    "                    _dict['1st_level_cat_desc'] = cat_dict['description']\n",
    "                    _dict['2nd_level_category'] = diagnose_dict['name']\n",
    "                    _dict['2nd_level_cat_desc'] = diagnose_dict['description']\n",
    "                    _dict['alert_level'] = _sub_dict['level']\n",
    "                    _dict['diagnose_desc'] = _sub_dict['value']\n",
    "                    categorised_diagnosis_dict[_sub_dict['name']] = _dict\n",
    "            else:\n",
    "                _dict = dict()\n",
    "                _dict['1st_level_category'] = cat_dict['name']\n",
    "                _dict['1st_level_cat_desc'] = cat_dict['description']\n",
    "                _dict['2nd_level_category'] = cat_dict['name']\n",
    "                _dict['2nd_level_cat_desc'] = cat_dict['description']\n",
    "                _dict['alert_level'] = diagnose_dict['level']\n",
    "                _dict['diagnose_desc'] = diagnose_dict['value']\n",
    "                categorised_diagnosis_dict[diagnose_dict['name']] = _dict\n",
    "    else:\n",
    "        _dict = dict()\n",
    "        _dict['1st_level_category'] = cat_dict['1st_level_category']\n",
    "        _dict['1st_level_cat_desc'] = cat_dict['1st_level_cat_desc']\n",
    "        _dict['2nd_level_category'] = cat_dict['2nd_level_category']\n",
    "        _dict['2nd_level_cat_desc'] = cat_dict['2nd_level_cat_desc']\n",
    "        _dict['alert_level'] = cat_dict['level']\n",
    "        _dict['diagnose_desc'] = cat_dict['value']\n",
    "        categorised_diagnosis_dict[cat_dict['name']] = _dict\n",
    "    #     print(cat_dict)"
   ]
  },
  {
   "cell_type": "code",
   "execution_count": 19,
   "metadata": {
    "colab": {
     "base_uri": "https://localhost:8080/",
     "height": 34
    },
    "colab_type": "code",
    "id": "1lfcidQUY5PN",
    "outputId": "f9bd7464-62ad-4f88-ebae-5e71b7f59121"
   },
   "outputs": [
    {
     "data": {
      "text/plain": [
       "set()"
      ]
     },
     "execution_count": 19,
     "metadata": {},
     "output_type": "execute_result"
    }
   ],
   "source": [
    "# Проверим что разметили категории для всех диагнозов\n",
    "set(categorised_diagnosis_dict.keys()) ^ set(df_numeric_targets.columns)"
   ]
  },
  {
   "cell_type": "markdown",
   "metadata": {
    "colab_type": "text",
    "id": "TL6YB-4nlUmd"
   },
   "source": [
    "## Имея маппинг диагнозов на категории, можем проанализировать распределение целевых значений по группам"
   ]
  },
  {
   "cell_type": "code",
   "execution_count": 20,
   "metadata": {
    "colab": {
     "base_uri": "https://localhost:8080/",
     "height": 34
    },
    "colab_type": "code",
    "id": "FhIkH8xxlRSu",
    "outputId": "1a399d24-4a9d-45f3-9682-af8a479aa74f"
   },
   "outputs": [],
   "source": [
    "target_set_1st_lvl = set([categorised_diagnosis_dict[it]['1st_level_category'] for it in categorised_diagnosis_dict])\n",
    "target_set_2nd_lvl = set([categorised_diagnosis_dict[it]['2nd_level_category'] for it in categorised_diagnosis_dict])\n",
    "target_set_color_lvl = set([categorised_diagnosis_dict[it]['alert_level'] for it in categorised_diagnosis_dict])"
   ]
  },
  {
   "cell_type": "code",
   "execution_count": 21,
   "metadata": {},
   "outputs": [
    {
     "data": {
      "text/plain": [
       "17"
      ]
     },
     "execution_count": 21,
     "metadata": {},
     "output_type": "execute_result"
    }
   ],
   "source": [
    "len(target_set_2nd_lvl)"
   ]
  },
  {
   "cell_type": "code",
   "execution_count": 22,
   "metadata": {},
   "outputs": [],
   "source": [
    "df_categorised_targets_1st_level = pd.DataFrame(columns=list(target_set_1st_lvl) + ['patient'])\n",
    "df_categorised_targets_2nd_level = pd.DataFrame(columns=list(target_set_2nd_lvl) + ['patient'])\n",
    "df_categorised_targets_color_level = pd.DataFrame(columns=list(target_set_color_lvl) + ['patient'])\n",
    "for patient in df_numeric_targets.index:\n",
    "    patient_series = df_numeric_targets.loc[patient]\n",
    "    #   print(patient, patient_series[patient_series > 0].index)\n",
    "    _diagnosis_1st_lvl_list = [categorised_diagnosis_dict[it]['1st_level_category'] for it in patient_series[patient_series > 0].index]\n",
    "    pattern_1st_lvl = [_it if _it[0] not in _diagnosis_1st_lvl_list else (_it[0], 1) for _it in \n",
    "                     [it for it in \n",
    "                      zip(df_categorised_targets_1st_level.columns, \n",
    "                          [0]*len(target_set_1st_lvl) + [patient])]\n",
    "                    ]\n",
    "    _diagnosis_2nd_lvl_list = [categorised_diagnosis_dict[it]['2nd_level_category'] for it in patient_series[patient_series > 0].index]\n",
    "    pattern_2nd_lvl = [_it if _it[0] not in _diagnosis_2nd_lvl_list else (_it[0], 1) for _it in \n",
    "                     [it for it in \n",
    "                      zip(df_categorised_targets_2nd_level.columns, \n",
    "                          [0]*len(target_set_2nd_lvl) + [patient])]\n",
    "                    ]\n",
    "\n",
    "    _diagnosis_color_lvl_list = [categorised_diagnosis_dict[it]['alert_level'] for it in patient_series[patient_series > 0].index]\n",
    "    pattern_color_lvl = [_it if _it[0] not in _diagnosis_color_lvl_list else (_it[0], 1) for _it in \n",
    "                     [it for it in \n",
    "                      zip(df_categorised_targets_color_level.columns, \n",
    "                          [0]*len(target_set_color_lvl) + [patient])]\n",
    "                    ]\n",
    "    df_categorised_targets_1st_level = df_categorised_targets_1st_level.append(dict(pattern_1st_lvl), ignore_index=True)\n",
    "    df_categorised_targets_2nd_level = df_categorised_targets_2nd_level.append(dict(pattern_2nd_lvl), ignore_index=True)\n",
    "    df_categorised_targets_color_level = df_categorised_targets_color_level.append(dict(pattern_color_lvl), ignore_index=True)\n",
    "    #   print(pattern_1st_lvl)\n",
    "    #   print(pattern_2nd_lvl)\n",
    "\n",
    "\n",
    "    #   break"
   ]
  },
  {
   "cell_type": "code",
   "execution_count": 23,
   "metadata": {},
   "outputs": [
    {
     "data": {
      "image/png": "[encoded data removed]",
      "text/plain": [
       "<Figure size 432x288 with 1 Axes>"
      ]
     },
     "metadata": {
      "needs_background": "light"
     },
     "output_type": "display_data"
    }
   ],
   "source": [
    "df_categorised_targets_color_level.set_index('patient').sum(axis=0).plot.barh()\n",
    "plt.show()"
   ]
  },
  {
   "cell_type": "code",
   "execution_count": 24,
   "metadata": {},
   "outputs": [
    {
     "data": {
      "text/html": [
       "<div>\n",
       "<style scoped>\n",
       "    .dataframe tbody tr th:only-of-type {\n",
       "        vertical-align: middle;\n",
       "    }\n",
       "\n",
       "    .dataframe tbody tr th {\n",
       "        vertical-align: top;\n",
       "    }\n",
       "\n",
       "    .dataframe thead th {\n",
       "        text-align: right;\n",
       "    }\n",
       "</style>\n",
       "<table border=\"1\" class=\"dataframe\">\n",
       "  <thead>\n",
       "    <tr style=\"text-align: right;\">\n",
       "      <th></th>\n",
       "      <th>yellow</th>\n",
       "      <th>red</th>\n",
       "      <th>green</th>\n",
       "    </tr>\n",
       "    <tr>\n",
       "      <th>patient</th>\n",
       "      <th></th>\n",
       "      <th></th>\n",
       "      <th></th>\n",
       "    </tr>\n",
       "  </thead>\n",
       "  <tbody>\n",
       "    <tr>\n",
       "      <th>50614362</th>\n",
       "      <td>1</td>\n",
       "      <td>0</td>\n",
       "      <td>1</td>\n",
       "    </tr>\n",
       "    <tr>\n",
       "      <th>50488872</th>\n",
       "      <td>1</td>\n",
       "      <td>1</td>\n",
       "      <td>0</td>\n",
       "    </tr>\n",
       "    <tr>\n",
       "      <th>50665484</th>\n",
       "      <td>1</td>\n",
       "      <td>0</td>\n",
       "      <td>1</td>\n",
       "    </tr>\n",
       "    <tr>\n",
       "      <th>50437056</th>\n",
       "      <td>1</td>\n",
       "      <td>1</td>\n",
       "      <td>1</td>\n",
       "    </tr>\n",
       "    <tr>\n",
       "      <th>60760205</th>\n",
       "      <td>1</td>\n",
       "      <td>1</td>\n",
       "      <td>1</td>\n",
       "    </tr>\n",
       "  </tbody>\n",
       "</table>\n",
       "</div>"
      ],
      "text/plain": [
       "         yellow red green\n",
       "patient                  \n",
       "50614362      1   0     1\n",
       "50488872      1   1     0\n",
       "50665484      1   0     1\n",
       "50437056      1   1     1\n",
       "60760205      1   1     1"
      ]
     },
     "execution_count": 24,
     "metadata": {},
     "output_type": "execute_result"
    }
   ],
   "source": [
    "df_categorised_targets_color_level.set_index('patient').head()"
   ]
  },
  {
   "cell_type": "code",
   "execution_count": 25,
   "metadata": {},
   "outputs": [
    {
     "data": {
      "text/plain": [
       "(409, 3)"
      ]
     },
     "execution_count": 25,
     "metadata": {},
     "output_type": "execute_result"
    }
   ],
   "source": [
    "df_categorised_targets_color_level.set_index('patient').shape"
   ]
  },
  {
   "cell_type": "code",
   "execution_count": 26,
   "metadata": {},
   "outputs": [],
   "source": [
    "Y = df_categorised_targets_color_level.set_index('patient')"
   ]
  },
  {
   "cell_type": "code",
   "execution_count": 27,
   "metadata": {},
   "outputs": [],
   "source": [
    "color_dataset_dict = dict()\n",
    "for patient in Y.index:\n",
    "    try:\n",
    "        ecg_x = pyedflib.EdfReader(\"./ecg_data/{0}.edf\".format(patient))\n",
    "        sigbufs = np.zeros((ecg_x.signals_in_file, ecg_x.getNSamples()[0]))\n",
    "        for i in np.arange(ecg_x.signals_in_file):\n",
    "            sigbufs[i, :] = ecg_x.readSignal(i)\n",
    "            color_dataset_dict[patient] = sigbufs\n",
    "        ecg_x._close()\n",
    "        del ecg_x\n",
    "    except:\n",
    "        print(patient)\n",
    "#   print(sigbufs.shape)"
   ]
  },
  {
   "cell_type": "code",
   "execution_count": 28,
   "metadata": {},
   "outputs": [
    {
     "data": {
      "text/plain": [
       "(12, 5000)"
      ]
     },
     "execution_count": 28,
     "metadata": {},
     "output_type": "execute_result"
    }
   ],
   "source": [
    "color_dataset_dict['1102625288'].shape"
   ]
  },
  {
   "cell_type": "code",
   "execution_count": 29,
   "metadata": {},
   "outputs": [
    {
     "data": {
      "text/plain": [
       "1"
      ]
     },
     "execution_count": 29,
     "metadata": {},
     "output_type": "execute_result"
    }
   ],
   "source": [
    "Y.loc['1102625288'].green"
   ]
  },
  {
   "cell_type": "code",
   "execution_count": 43,
   "metadata": {},
   "outputs": [],
   "source": [
    "data_dict = dict()\n",
    "for i in range(1):\n",
    "    X_arr = np.zeros((len(color_dataset_dict.keys())*10,500))\n",
    "    Y_arr = np.zeros((len(color_dataset_dict.keys())*10,1))\n",
    "    j = 0\n",
    "    for patient in color_dataset_dict.keys():\n",
    "#         print(patient, Y.loc[patient].green)\n",
    "        for it in range(500, 5000, 500):\n",
    "            X_arr[j, :] = np.tanh(color_dataset_dict[patient][i][it-500:it])\n",
    "            Y_arr[j,:] = Y.loc[patient].red\n",
    "            j += 1\n",
    "    data_dict[\"{0}-lead\".format(i)] = (X_arr, Y_arr)\n"
   ]
  },
  {
   "cell_type": "code",
   "execution_count": 316,
   "metadata": {},
   "outputs": [
    {
     "data": {
      "text/plain": [
       "'Baseline: 0.7579462102689487'"
      ]
     },
     "execution_count": 316,
     "metadata": {},
     "output_type": "execute_result"
    }
   ],
   "source": [
    "baseline = np.mean([target[0] for target in data_dict['0-lead'][1]])\n",
    "\"Baseline: {0}\".format(1-baseline)"
   ]
  },
  {
   "cell_type": "code",
   "execution_count": 304,
   "metadata": {},
   "outputs": [],
   "source": [
    "from torchesn.nn import ESN\n",
    "from torchesn.utils import prepare_target"
   ]
  },
  {
   "cell_type": "code",
   "execution_count": 305,
   "metadata": {},
   "outputs": [],
   "source": [
    "# prepare target matrix for offline training\n",
    "# flat_target = prepare_target(target, seq_lengths, washout)\n",
    "\n",
    "model = ESN(input_size=500, hidden_size=200,num_layers=2, output_size=1, \n",
    "            nonlinearity='relu', density=0.2, output_steps='last',\n",
    "           w_io=True, readout_training='gd',)"
   ]
  },
  {
   "cell_type": "code",
   "execution_count": 306,
   "metadata": {},
   "outputs": [],
   "source": [
    "import torch.optim as optim\n",
    "import torch.nn as nn\n",
    "criterion = nn.BCEWithLogitsLoss()\n",
    "optimizer = optim.Adam(model.parameters(), lr=0.001,)"
   ]
  },
  {
   "cell_type": "code",
   "execution_count": 307,
   "metadata": {},
   "outputs": [
    {
     "data": {
      "text/plain": [
       "ESN(\n",
       "  (reservoir): Reservoir((500, 200, num_layers=2))\n",
       "  (readout): Linear(in_features=900, out_features=1, bias=True)\n",
       ")"
      ]
     },
     "execution_count": 307,
     "metadata": {},
     "output_type": "execute_result"
    }
   ],
   "source": [
    "model\n",
    "# [-1].append(nn.Linear(in_features=50, out_features=1,))"
   ]
  },
  {
   "cell_type": "code",
   "execution_count": 308,
   "metadata": {},
   "outputs": [],
   "source": [
    "from torch import Tensor\n",
    "import torch.nn.functional as F"
   ]
  },
  {
   "cell_type": "code",
   "execution_count": 323,
   "metadata": {},
   "outputs": [],
   "source": [
    "from torch.utils.data import DataLoader\n",
    "dataloader = DataLoader([(Tensor([it[0]]), Tensor(it[1])) for it in zip(*data_dict['0-lead'])],\n",
    "                        shuffle=True, batch_size=50)"
   ]
  },
  {
   "cell_type": "code",
   "execution_count": 324,
   "metadata": {},
   "outputs": [],
   "source": [
    "import torch"
   ]
  },
  {
   "cell_type": "code",
   "execution_count": 325,
   "metadata": {},
   "outputs": [],
   "source": [
    "import tqdm\n",
    "from tqdm import tnrange"
   ]
  },
  {
   "cell_type": "code",
   "execution_count": null,
   "metadata": {},
   "outputs": [
    {
     "data": {
      "application/vnd.jupyter.widget-view+json": {
       "model_id": "8256390b9c9945618917c4616148814b",
       "version_major": 2,
       "version_minor": 0
      },
      "text/plain": [
       "HBox(children=(IntProgress(value=0, description='Epochs: ', max=1000, style=ProgressStyle(description_width='i…"
      ]
     },
     "metadata": {},
     "output_type": "display_data"
    }
   ],
   "source": [
    "t = tnrange(1000, desc='Epochs: ', leave=True)\n",
    "for epoch in t:  # loop over the dataset multiple times\n",
    "\n",
    "    running_loss = 0.0\n",
    "    for i, data in enumerate(dataloader, 0):\n",
    "        t.refresh()\n",
    "        # get the inputs\n",
    "        inputs, labels = data\n",
    "        # zero the parameter gradients\n",
    "        optimizer.zero_grad()\n",
    "        \n",
    "        # forward + backward + optimize\n",
    "        outputs = model(inputs, [0])[0].squeeze(-1)\n",
    "        loss = criterion(outputs, labels)\n",
    "        loss.backward()\n",
    "        optimizer.step()\n",
    "\n",
    "        # print statistics\n",
    "        if i % 50 == 49:\n",
    "            t.set_postfix(batch=i, loss=loss.item())\n",
    "\n",
    "print('Finished Training')"
   ]
  },
  {
   "cell_type": "code",
   "execution_count": null,
   "metadata": {},
   "outputs": [],
   "source": [
    "correct = 0\n",
    "total = 0\n",
    "with torch.no_grad():\n",
    "    for data in dataloader:\n",
    "        x, labels = data\n",
    "        outputs = torch.sigmoid(model(x, [0])[0])\n",
    "        y_hat = outputs.apply_(lambda x: 0 if x < 0.5 else 1)\n",
    "#         _, predicted = outputs.data\n",
    "        total += labels.size(0)\n",
    "#         print(y_hat.shape, labels.shape)\n",
    "        correct += (y_hat.squeeze(-1) == labels).sum().item()"
   ]
  },
  {
   "cell_type": "code",
   "execution_count": null,
   "metadata": {},
   "outputs": [],
   "source": [
    "correct / total"
   ]
  },
  {
   "cell_type": "code",
   "execution_count": null,
   "metadata": {},
   "outputs": [],
   "source": []
  }
 ],
 "metadata": {
  "accelerator": "GPU",
  "colab": {
   "collapsed_sections": [],
   "include_colab_link": true,
   "name": "ecg_first_steps.ipynb",
   "provenance": [],
   "version": "0.3.2"
  },
  "kernelspec": {
   "display_name": "Python 3",
   "language": "python",
   "name": "python3"
  },
  "language_info": {
   "codemirror_mode": {
    "name": "ipython",
    "version": 3
   },
   "file_extension": ".py",
   "mimetype": "text/x-python",
   "name": "python",
   "nbconvert_exporter": "python",
   "pygments_lexer": "ipython3",
   "version": "3.6.6+"
  }
 },
 "nbformat": 4,
 "nbformat_minor": 1
}
